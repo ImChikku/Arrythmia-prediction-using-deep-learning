{
 "cells": [
  {
   "cell_type": "markdown",
   "metadata": {},
   "source": [
    "# Arrhythmia Predection with Deep-Learning"
   ]
  },
  {
   "cell_type": "markdown",
   "metadata": {
    "id": "H_THNkfZ1JbE"
   },
   "source": [
    "The Dataset used in this project is available on the UCI machine learning Repository. \n",
    "\n",
    "* It can be found at: https://archive.ics.uci.edu/ml/datasets/Arrhythmia. \n",
    "\n",
    "\n",
    "* It consists of 452 different examples spread over 16 classes. Of the 452 examples,\n",
    "\n",
    "    - 245 are of \"normal\" people. We also have 12 different types of arrhythmias. \n",
    "    \n",
    "    - Among all these types of arrhythmias, the most representative are the \"coronary artery disease\" and \"Rjgbt boundle branch block\".\n",
    "\n",
    "\n",
    "* We have 279 features, which include age, sex, weight, height of patients and other related information. We explicitly observe that the number of features is relatively high compared to the number of examples we are available.\n",
    "\n",
    "\n",
    "* Our goal is to predict if a person is suffering from arrhythmia or not, and if **yes**, classify it in to one of 12 available groups."
   ]
  },
  {
   "cell_type": "markdown",
   "metadata": {
    "id": "zE10sTd_1JbG"
   },
   "source": [
    "### Importing Essential Libraries"
   ]
  },
  {
   "cell_type": "code",
   "execution_count": 1,
   "metadata": {
    "execution": {
     "iopub.execute_input": "2022-09-19T13:10:08.150953Z",
     "iopub.status.busy": "2022-09-19T13:10:08.150498Z",
     "iopub.status.idle": "2022-09-19T13:10:08.159792Z",
     "shell.execute_reply": "2022-09-19T13:10:08.158527Z",
     "shell.execute_reply.started": "2022-09-19T13:10:08.150918Z"
    },
    "id": "EcD33ZuZ1JbH"
   },
   "outputs": [],
   "source": [
    "import pandas as pd\n",
    "import numpy as np\n",
    "import scipy as sp\n",
    "import math as mt\n",
    "import seaborn as sns\n",
    "import conf, json,time\n",
    "import os\n",
    "from twilio.rest import Client\n",
    "from boltiot import Sms,Bolt\n",
    "\n",
    "import matplotlib.pyplot as plt\n",
    "#to avoid writing plot.show\n",
    "%matplotlib inline\n",
    "from sklearn.impute import SimpleImputer"
   ]
  },
  {
   "cell_type": "markdown",
   "metadata": {
    "id": "abXtJnLE1JbO"
   },
   "source": [
    "### Data Reading"
   ]
  },
  {
   "cell_type": "code",
   "execution_count": null,
   "metadata": {},
   "outputs": [],
   "source": []
  },
  {
   "cell_type": "code",
   "execution_count": 2,
   "metadata": {
    "execution": {
     "iopub.execute_input": "2022-09-19T13:10:12.318406Z",
     "iopub.status.busy": "2022-09-19T13:10:12.317750Z",
     "iopub.status.idle": "2022-09-19T13:10:12.352892Z",
     "shell.execute_reply": "2022-09-19T13:10:12.351614Z",
     "shell.execute_reply.started": "2022-09-19T13:10:12.318266Z"
    },
    "id": "4sHaerCj1JbP"
   },
   "outputs": [],
   "source": [
    "df=pd.read_csv(\"D:/heartbeat/testing/Project-Arrhythmia-master/Project-Arrhythmia-master/Data/arrhythmia.csv\",header=None)"
   ]
  },
  {
   "cell_type": "code",
   "execution_count": 3,
   "metadata": {
    "colab": {
     "base_uri": "https://localhost:8080/",
     "height": 255
    },
    "execution": {
     "iopub.execute_input": "2022-09-19T13:10:12.355316Z",
     "iopub.status.busy": "2022-09-19T13:10:12.354933Z",
     "iopub.status.idle": "2022-09-19T13:10:12.386639Z",
     "shell.execute_reply": "2022-09-19T13:10:12.384937Z",
     "shell.execute_reply.started": "2022-09-19T13:10:12.355283Z"
    },
    "id": "wdOvvFNN1JbS",
    "outputId": "a5dd7386-bec5-4bae-db62-e4cd89e31887"
   },
   "outputs": [
    {
     "data": {
      "text/html": [
       "<div>\n",
       "<style scoped>\n",
       "    .dataframe tbody tr th:only-of-type {\n",
       "        vertical-align: middle;\n",
       "    }\n",
       "\n",
       "    .dataframe tbody tr th {\n",
       "        vertical-align: top;\n",
       "    }\n",
       "\n",
       "    .dataframe thead th {\n",
       "        text-align: right;\n",
       "    }\n",
       "</style>\n",
       "<table border=\"1\" class=\"dataframe\">\n",
       "  <thead>\n",
       "    <tr style=\"text-align: right;\">\n",
       "      <th></th>\n",
       "      <th>0</th>\n",
       "      <th>1</th>\n",
       "      <th>2</th>\n",
       "      <th>3</th>\n",
       "      <th>4</th>\n",
       "      <th>5</th>\n",
       "      <th>6</th>\n",
       "      <th>7</th>\n",
       "      <th>8</th>\n",
       "      <th>9</th>\n",
       "      <th>...</th>\n",
       "      <th>270</th>\n",
       "      <th>271</th>\n",
       "      <th>272</th>\n",
       "      <th>273</th>\n",
       "      <th>274</th>\n",
       "      <th>275</th>\n",
       "      <th>276</th>\n",
       "      <th>277</th>\n",
       "      <th>278</th>\n",
       "      <th>279</th>\n",
       "    </tr>\n",
       "  </thead>\n",
       "  <tbody>\n",
       "    <tr>\n",
       "      <th>0</th>\n",
       "      <td>75</td>\n",
       "      <td>0</td>\n",
       "      <td>190</td>\n",
       "      <td>80</td>\n",
       "      <td>91</td>\n",
       "      <td>193</td>\n",
       "      <td>371</td>\n",
       "      <td>174</td>\n",
       "      <td>121</td>\n",
       "      <td>-16</td>\n",
       "      <td>...</td>\n",
       "      <td>0.0</td>\n",
       "      <td>9.0</td>\n",
       "      <td>-0.9</td>\n",
       "      <td>0.0</td>\n",
       "      <td>0.0</td>\n",
       "      <td>0.9</td>\n",
       "      <td>2.9</td>\n",
       "      <td>23.3</td>\n",
       "      <td>49.4</td>\n",
       "      <td>8</td>\n",
       "    </tr>\n",
       "    <tr>\n",
       "      <th>1</th>\n",
       "      <td>56</td>\n",
       "      <td>1</td>\n",
       "      <td>165</td>\n",
       "      <td>64</td>\n",
       "      <td>81</td>\n",
       "      <td>174</td>\n",
       "      <td>401</td>\n",
       "      <td>149</td>\n",
       "      <td>39</td>\n",
       "      <td>25</td>\n",
       "      <td>...</td>\n",
       "      <td>0.0</td>\n",
       "      <td>8.5</td>\n",
       "      <td>0.0</td>\n",
       "      <td>0.0</td>\n",
       "      <td>0.0</td>\n",
       "      <td>0.2</td>\n",
       "      <td>2.1</td>\n",
       "      <td>20.4</td>\n",
       "      <td>38.8</td>\n",
       "      <td>6</td>\n",
       "    </tr>\n",
       "    <tr>\n",
       "      <th>2</th>\n",
       "      <td>54</td>\n",
       "      <td>0</td>\n",
       "      <td>172</td>\n",
       "      <td>95</td>\n",
       "      <td>138</td>\n",
       "      <td>163</td>\n",
       "      <td>386</td>\n",
       "      <td>185</td>\n",
       "      <td>102</td>\n",
       "      <td>96</td>\n",
       "      <td>...</td>\n",
       "      <td>0.0</td>\n",
       "      <td>9.5</td>\n",
       "      <td>-2.4</td>\n",
       "      <td>0.0</td>\n",
       "      <td>0.0</td>\n",
       "      <td>0.3</td>\n",
       "      <td>3.4</td>\n",
       "      <td>12.3</td>\n",
       "      <td>49.0</td>\n",
       "      <td>10</td>\n",
       "    </tr>\n",
       "    <tr>\n",
       "      <th>3</th>\n",
       "      <td>55</td>\n",
       "      <td>0</td>\n",
       "      <td>175</td>\n",
       "      <td>94</td>\n",
       "      <td>100</td>\n",
       "      <td>202</td>\n",
       "      <td>380</td>\n",
       "      <td>179</td>\n",
       "      <td>143</td>\n",
       "      <td>28</td>\n",
       "      <td>...</td>\n",
       "      <td>0.0</td>\n",
       "      <td>12.2</td>\n",
       "      <td>-2.2</td>\n",
       "      <td>0.0</td>\n",
       "      <td>0.0</td>\n",
       "      <td>0.4</td>\n",
       "      <td>2.6</td>\n",
       "      <td>34.6</td>\n",
       "      <td>61.6</td>\n",
       "      <td>1</td>\n",
       "    </tr>\n",
       "    <tr>\n",
       "      <th>4</th>\n",
       "      <td>75</td>\n",
       "      <td>0</td>\n",
       "      <td>190</td>\n",
       "      <td>80</td>\n",
       "      <td>88</td>\n",
       "      <td>181</td>\n",
       "      <td>360</td>\n",
       "      <td>177</td>\n",
       "      <td>103</td>\n",
       "      <td>-16</td>\n",
       "      <td>...</td>\n",
       "      <td>0.0</td>\n",
       "      <td>13.1</td>\n",
       "      <td>-3.6</td>\n",
       "      <td>0.0</td>\n",
       "      <td>0.0</td>\n",
       "      <td>-0.1</td>\n",
       "      <td>3.9</td>\n",
       "      <td>25.4</td>\n",
       "      <td>62.8</td>\n",
       "      <td>7</td>\n",
       "    </tr>\n",
       "  </tbody>\n",
       "</table>\n",
       "<p>5 rows × 280 columns</p>\n",
       "</div>"
      ],
      "text/plain": [
       "   0    1    2    3    4    5    6    7    8    9    ...  270   271  272  273  \\\n",
       "0   75    0  190   80   91  193  371  174  121  -16  ...  0.0   9.0 -0.9  0.0   \n",
       "1   56    1  165   64   81  174  401  149   39   25  ...  0.0   8.5  0.0  0.0   \n",
       "2   54    0  172   95  138  163  386  185  102   96  ...  0.0   9.5 -2.4  0.0   \n",
       "3   55    0  175   94  100  202  380  179  143   28  ...  0.0  12.2 -2.2  0.0   \n",
       "4   75    0  190   80   88  181  360  177  103  -16  ...  0.0  13.1 -3.6  0.0   \n",
       "\n",
       "   274  275  276   277   278  279  \n",
       "0  0.0  0.9  2.9  23.3  49.4    8  \n",
       "1  0.0  0.2  2.1  20.4  38.8    6  \n",
       "2  0.0  0.3  3.4  12.3  49.0   10  \n",
       "3  0.0  0.4  2.6  34.6  61.6    1  \n",
       "4  0.0 -0.1  3.9  25.4  62.8    7  \n",
       "\n",
       "[5 rows x 280 columns]"
      ]
     },
     "execution_count": 3,
     "metadata": {},
     "output_type": "execute_result"
    }
   ],
   "source": [
    "df.head()"
   ]
  },
  {
   "cell_type": "code",
   "execution_count": 4,
   "metadata": {
    "colab": {
     "base_uri": "https://localhost:8080/",
     "height": 255
    },
    "execution": {
     "iopub.execute_input": "2022-09-19T13:10:22.410280Z",
     "iopub.status.busy": "2022-09-19T13:10:22.409872Z",
     "iopub.status.idle": "2022-09-19T13:10:22.441410Z",
     "shell.execute_reply": "2022-09-19T13:10:22.440196Z",
     "shell.execute_reply.started": "2022-09-19T13:10:22.410232Z"
    },
    "id": "hKiDBnOG1JbZ",
    "outputId": "fdaedfcf-a2da-4543-ec4a-de25b7100da7"
   },
   "outputs": [
    {
     "data": {
      "text/html": [
       "<div>\n",
       "<style scoped>\n",
       "    .dataframe tbody tr th:only-of-type {\n",
       "        vertical-align: middle;\n",
       "    }\n",
       "\n",
       "    .dataframe tbody tr th {\n",
       "        vertical-align: top;\n",
       "    }\n",
       "\n",
       "    .dataframe thead th {\n",
       "        text-align: right;\n",
       "    }\n",
       "</style>\n",
       "<table border=\"1\" class=\"dataframe\">\n",
       "  <thead>\n",
       "    <tr style=\"text-align: right;\">\n",
       "      <th></th>\n",
       "      <th>0</th>\n",
       "      <th>1</th>\n",
       "      <th>2</th>\n",
       "      <th>3</th>\n",
       "      <th>4</th>\n",
       "      <th>5</th>\n",
       "      <th>6</th>\n",
       "      <th>7</th>\n",
       "      <th>8</th>\n",
       "      <th>9</th>\n",
       "      <th>...</th>\n",
       "      <th>270</th>\n",
       "      <th>271</th>\n",
       "      <th>272</th>\n",
       "      <th>273</th>\n",
       "      <th>274</th>\n",
       "      <th>275</th>\n",
       "      <th>276</th>\n",
       "      <th>277</th>\n",
       "      <th>278</th>\n",
       "      <th>279</th>\n",
       "    </tr>\n",
       "  </thead>\n",
       "  <tbody>\n",
       "    <tr>\n",
       "      <th>447</th>\n",
       "      <td>53</td>\n",
       "      <td>1</td>\n",
       "      <td>160</td>\n",
       "      <td>70</td>\n",
       "      <td>80</td>\n",
       "      <td>199</td>\n",
       "      <td>382</td>\n",
       "      <td>154</td>\n",
       "      <td>117</td>\n",
       "      <td>-37</td>\n",
       "      <td>...</td>\n",
       "      <td>0.0</td>\n",
       "      <td>4.3</td>\n",
       "      <td>-5.0</td>\n",
       "      <td>0.0</td>\n",
       "      <td>0.0</td>\n",
       "      <td>0.7</td>\n",
       "      <td>0.6</td>\n",
       "      <td>-4.4</td>\n",
       "      <td>-0.5</td>\n",
       "      <td>1</td>\n",
       "    </tr>\n",
       "    <tr>\n",
       "      <th>448</th>\n",
       "      <td>37</td>\n",
       "      <td>0</td>\n",
       "      <td>190</td>\n",
       "      <td>85</td>\n",
       "      <td>100</td>\n",
       "      <td>137</td>\n",
       "      <td>361</td>\n",
       "      <td>201</td>\n",
       "      <td>73</td>\n",
       "      <td>86</td>\n",
       "      <td>...</td>\n",
       "      <td>0.0</td>\n",
       "      <td>15.6</td>\n",
       "      <td>-1.6</td>\n",
       "      <td>0.0</td>\n",
       "      <td>0.0</td>\n",
       "      <td>0.4</td>\n",
       "      <td>2.4</td>\n",
       "      <td>38.0</td>\n",
       "      <td>62.4</td>\n",
       "      <td>10</td>\n",
       "    </tr>\n",
       "    <tr>\n",
       "      <th>449</th>\n",
       "      <td>36</td>\n",
       "      <td>0</td>\n",
       "      <td>166</td>\n",
       "      <td>68</td>\n",
       "      <td>108</td>\n",
       "      <td>176</td>\n",
       "      <td>365</td>\n",
       "      <td>194</td>\n",
       "      <td>116</td>\n",
       "      <td>-85</td>\n",
       "      <td>...</td>\n",
       "      <td>0.0</td>\n",
       "      <td>16.3</td>\n",
       "      <td>-28.6</td>\n",
       "      <td>0.0</td>\n",
       "      <td>0.0</td>\n",
       "      <td>1.5</td>\n",
       "      <td>1.0</td>\n",
       "      <td>-44.2</td>\n",
       "      <td>-33.2</td>\n",
       "      <td>2</td>\n",
       "    </tr>\n",
       "    <tr>\n",
       "      <th>450</th>\n",
       "      <td>32</td>\n",
       "      <td>1</td>\n",
       "      <td>155</td>\n",
       "      <td>55</td>\n",
       "      <td>93</td>\n",
       "      <td>106</td>\n",
       "      <td>386</td>\n",
       "      <td>218</td>\n",
       "      <td>63</td>\n",
       "      <td>54</td>\n",
       "      <td>...</td>\n",
       "      <td>-0.4</td>\n",
       "      <td>12.0</td>\n",
       "      <td>-0.7</td>\n",
       "      <td>0.0</td>\n",
       "      <td>0.0</td>\n",
       "      <td>0.5</td>\n",
       "      <td>2.4</td>\n",
       "      <td>25.0</td>\n",
       "      <td>46.6</td>\n",
       "      <td>1</td>\n",
       "    </tr>\n",
       "    <tr>\n",
       "      <th>451</th>\n",
       "      <td>78</td>\n",
       "      <td>1</td>\n",
       "      <td>160</td>\n",
       "      <td>70</td>\n",
       "      <td>79</td>\n",
       "      <td>127</td>\n",
       "      <td>364</td>\n",
       "      <td>138</td>\n",
       "      <td>78</td>\n",
       "      <td>28</td>\n",
       "      <td>...</td>\n",
       "      <td>0.0</td>\n",
       "      <td>10.4</td>\n",
       "      <td>-1.8</td>\n",
       "      <td>0.0</td>\n",
       "      <td>0.0</td>\n",
       "      <td>0.5</td>\n",
       "      <td>1.6</td>\n",
       "      <td>21.3</td>\n",
       "      <td>32.8</td>\n",
       "      <td>1</td>\n",
       "    </tr>\n",
       "  </tbody>\n",
       "</table>\n",
       "<p>5 rows × 280 columns</p>\n",
       "</div>"
      ],
      "text/plain": [
       "     0    1    2    3    4    5    6    7    8    9    ...  270   271   272  \\\n",
       "447   53    1  160   70   80  199  382  154  117  -37  ...  0.0   4.3  -5.0   \n",
       "448   37    0  190   85  100  137  361  201   73   86  ...  0.0  15.6  -1.6   \n",
       "449   36    0  166   68  108  176  365  194  116  -85  ...  0.0  16.3 -28.6   \n",
       "450   32    1  155   55   93  106  386  218   63   54  ... -0.4  12.0  -0.7   \n",
       "451   78    1  160   70   79  127  364  138   78   28  ...  0.0  10.4  -1.8   \n",
       "\n",
       "     273  274  275  276   277   278  279  \n",
       "447  0.0  0.0  0.7  0.6  -4.4  -0.5    1  \n",
       "448  0.0  0.0  0.4  2.4  38.0  62.4   10  \n",
       "449  0.0  0.0  1.5  1.0 -44.2 -33.2    2  \n",
       "450  0.0  0.0  0.5  2.4  25.0  46.6    1  \n",
       "451  0.0  0.0  0.5  1.6  21.3  32.8    1  \n",
       "\n",
       "[5 rows x 280 columns]"
      ]
     },
     "execution_count": 4,
     "metadata": {},
     "output_type": "execute_result"
    }
   ],
   "source": [
    "df.tail()"
   ]
  },
  {
   "cell_type": "markdown",
   "metadata": {
    "id": "ce4X37cV1Jbd"
   },
   "source": [
    "**Basic Description of dataframe**"
   ]
  },
  {
   "cell_type": "code",
   "execution_count": 5,
   "metadata": {
    "colab": {
     "base_uri": "https://localhost:8080/"
    },
    "execution": {
     "iopub.execute_input": "2022-09-19T13:10:22.444747Z",
     "iopub.status.busy": "2022-09-19T13:10:22.443635Z",
     "iopub.status.idle": "2022-09-19T13:10:22.451413Z",
     "shell.execute_reply": "2022-09-19T13:10:22.450081Z",
     "shell.execute_reply.started": "2022-09-19T13:10:22.444709Z"
    },
    "id": "uhurbWma1Jbe",
    "outputId": "127c6d0d-2785-4e68-cedc-d4ee94f33a9e"
   },
   "outputs": [
    {
     "data": {
      "text/plain": [
       "(452, 280)"
      ]
     },
     "execution_count": 5,
     "metadata": {},
     "output_type": "execute_result"
    }
   ],
   "source": [
    "#Dimension of dataset.\n",
    "\n",
    "df.shape"
   ]
  },
  {
   "cell_type": "code",
   "execution_count": 6,
   "metadata": {
    "colab": {
     "base_uri": "https://localhost:8080/"
    },
    "execution": {
     "iopub.execute_input": "2022-09-19T13:10:23.317079Z",
     "iopub.status.busy": "2022-09-19T13:10:23.315551Z",
     "iopub.status.idle": "2022-09-19T13:10:23.342906Z",
     "shell.execute_reply": "2022-09-19T13:10:23.341778Z",
     "shell.execute_reply.started": "2022-09-19T13:10:23.317014Z"
    },
    "id": "PagGspN01Jbh",
    "outputId": "0c6a1908-5953-4f4c-bdf2-9f0e6b632cad"
   },
   "outputs": [
    {
     "name": "stdout",
     "output_type": "stream",
     "text": [
      "<class 'pandas.core.frame.DataFrame'>\n",
      "RangeIndex: 452 entries, 0 to 451\n",
      "Columns: 280 entries, 0 to 279\n",
      "dtypes: float64(120), int64(155), object(5)\n",
      "memory usage: 988.9+ KB\n"
     ]
    }
   ],
   "source": [
    "#concise summary of the dataframe.\n",
    "\n",
    "df.info()"
   ]
  },
  {
   "cell_type": "code",
   "execution_count": 7,
   "metadata": {
    "colab": {
     "base_uri": "https://localhost:8080/",
     "height": 424
    },
    "execution": {
     "iopub.execute_input": "2022-09-19T13:10:23.345685Z",
     "iopub.status.busy": "2022-09-19T13:10:23.345224Z",
     "iopub.status.idle": "2022-09-19T13:10:23.948083Z",
     "shell.execute_reply": "2022-09-19T13:10:23.946915Z",
     "shell.execute_reply.started": "2022-09-19T13:10:23.345648Z"
    },
    "id": "1DLGCi-21Jbl",
    "outputId": "f00e4e76-a948-4c75-8bcb-b3eeb6f5fd75"
   },
   "outputs": [
    {
     "data": {
      "text/html": [
       "<div>\n",
       "<style scoped>\n",
       "    .dataframe tbody tr th:only-of-type {\n",
       "        vertical-align: middle;\n",
       "    }\n",
       "\n",
       "    .dataframe tbody tr th {\n",
       "        vertical-align: top;\n",
       "    }\n",
       "\n",
       "    .dataframe thead th {\n",
       "        text-align: right;\n",
       "    }\n",
       "</style>\n",
       "<table border=\"1\" class=\"dataframe\">\n",
       "  <thead>\n",
       "    <tr style=\"text-align: right;\">\n",
       "      <th></th>\n",
       "      <th>0</th>\n",
       "      <th>1</th>\n",
       "      <th>2</th>\n",
       "      <th>3</th>\n",
       "      <th>4</th>\n",
       "      <th>5</th>\n",
       "      <th>6</th>\n",
       "      <th>7</th>\n",
       "      <th>8</th>\n",
       "      <th>9</th>\n",
       "      <th>...</th>\n",
       "      <th>270</th>\n",
       "      <th>271</th>\n",
       "      <th>272</th>\n",
       "      <th>273</th>\n",
       "      <th>274</th>\n",
       "      <th>275</th>\n",
       "      <th>276</th>\n",
       "      <th>277</th>\n",
       "      <th>278</th>\n",
       "      <th>279</th>\n",
       "    </tr>\n",
       "  </thead>\n",
       "  <tbody>\n",
       "    <tr>\n",
       "      <th>count</th>\n",
       "      <td>452.000000</td>\n",
       "      <td>452.000000</td>\n",
       "      <td>452.000000</td>\n",
       "      <td>452.000000</td>\n",
       "      <td>452.000000</td>\n",
       "      <td>452.000000</td>\n",
       "      <td>452.000000</td>\n",
       "      <td>452.000000</td>\n",
       "      <td>452.000000</td>\n",
       "      <td>452.000000</td>\n",
       "      <td>...</td>\n",
       "      <td>452.000000</td>\n",
       "      <td>452.000000</td>\n",
       "      <td>452.000000</td>\n",
       "      <td>452.000000</td>\n",
       "      <td>452.0</td>\n",
       "      <td>452.000000</td>\n",
       "      <td>452.000000</td>\n",
       "      <td>452.000000</td>\n",
       "      <td>452.000000</td>\n",
       "      <td>452.000000</td>\n",
       "    </tr>\n",
       "    <tr>\n",
       "      <th>mean</th>\n",
       "      <td>46.471239</td>\n",
       "      <td>0.550885</td>\n",
       "      <td>166.188053</td>\n",
       "      <td>68.170354</td>\n",
       "      <td>88.920354</td>\n",
       "      <td>155.152655</td>\n",
       "      <td>367.207965</td>\n",
       "      <td>169.949115</td>\n",
       "      <td>90.004425</td>\n",
       "      <td>33.676991</td>\n",
       "      <td>...</td>\n",
       "      <td>-0.278982</td>\n",
       "      <td>9.048009</td>\n",
       "      <td>-1.457301</td>\n",
       "      <td>0.003982</td>\n",
       "      <td>0.0</td>\n",
       "      <td>0.514823</td>\n",
       "      <td>1.222345</td>\n",
       "      <td>19.326106</td>\n",
       "      <td>29.473230</td>\n",
       "      <td>3.880531</td>\n",
       "    </tr>\n",
       "    <tr>\n",
       "      <th>std</th>\n",
       "      <td>16.466631</td>\n",
       "      <td>0.497955</td>\n",
       "      <td>37.170340</td>\n",
       "      <td>16.590803</td>\n",
       "      <td>15.364394</td>\n",
       "      <td>44.842283</td>\n",
       "      <td>33.385421</td>\n",
       "      <td>35.633072</td>\n",
       "      <td>25.826643</td>\n",
       "      <td>45.431434</td>\n",
       "      <td>...</td>\n",
       "      <td>0.548876</td>\n",
       "      <td>3.472862</td>\n",
       "      <td>2.002430</td>\n",
       "      <td>0.050118</td>\n",
       "      <td>0.0</td>\n",
       "      <td>0.347531</td>\n",
       "      <td>1.426052</td>\n",
       "      <td>13.503922</td>\n",
       "      <td>18.493927</td>\n",
       "      <td>4.407097</td>\n",
       "    </tr>\n",
       "    <tr>\n",
       "      <th>min</th>\n",
       "      <td>0.000000</td>\n",
       "      <td>0.000000</td>\n",
       "      <td>105.000000</td>\n",
       "      <td>6.000000</td>\n",
       "      <td>55.000000</td>\n",
       "      <td>0.000000</td>\n",
       "      <td>232.000000</td>\n",
       "      <td>108.000000</td>\n",
       "      <td>0.000000</td>\n",
       "      <td>-172.000000</td>\n",
       "      <td>...</td>\n",
       "      <td>-4.100000</td>\n",
       "      <td>0.000000</td>\n",
       "      <td>-28.600000</td>\n",
       "      <td>0.000000</td>\n",
       "      <td>0.0</td>\n",
       "      <td>-0.800000</td>\n",
       "      <td>-6.000000</td>\n",
       "      <td>-44.200000</td>\n",
       "      <td>-38.600000</td>\n",
       "      <td>1.000000</td>\n",
       "    </tr>\n",
       "    <tr>\n",
       "      <th>25%</th>\n",
       "      <td>36.000000</td>\n",
       "      <td>0.000000</td>\n",
       "      <td>160.000000</td>\n",
       "      <td>59.000000</td>\n",
       "      <td>80.000000</td>\n",
       "      <td>142.000000</td>\n",
       "      <td>350.000000</td>\n",
       "      <td>148.000000</td>\n",
       "      <td>79.000000</td>\n",
       "      <td>3.750000</td>\n",
       "      <td>...</td>\n",
       "      <td>-0.425000</td>\n",
       "      <td>6.600000</td>\n",
       "      <td>-2.100000</td>\n",
       "      <td>0.000000</td>\n",
       "      <td>0.0</td>\n",
       "      <td>0.400000</td>\n",
       "      <td>0.500000</td>\n",
       "      <td>11.450000</td>\n",
       "      <td>17.550000</td>\n",
       "      <td>1.000000</td>\n",
       "    </tr>\n",
       "    <tr>\n",
       "      <th>50%</th>\n",
       "      <td>47.000000</td>\n",
       "      <td>1.000000</td>\n",
       "      <td>164.000000</td>\n",
       "      <td>68.000000</td>\n",
       "      <td>86.000000</td>\n",
       "      <td>157.000000</td>\n",
       "      <td>367.000000</td>\n",
       "      <td>162.000000</td>\n",
       "      <td>91.000000</td>\n",
       "      <td>40.000000</td>\n",
       "      <td>...</td>\n",
       "      <td>0.000000</td>\n",
       "      <td>8.800000</td>\n",
       "      <td>-1.100000</td>\n",
       "      <td>0.000000</td>\n",
       "      <td>0.0</td>\n",
       "      <td>0.500000</td>\n",
       "      <td>1.350000</td>\n",
       "      <td>18.100000</td>\n",
       "      <td>27.900000</td>\n",
       "      <td>1.000000</td>\n",
       "    </tr>\n",
       "    <tr>\n",
       "      <th>75%</th>\n",
       "      <td>58.000000</td>\n",
       "      <td>1.000000</td>\n",
       "      <td>170.000000</td>\n",
       "      <td>79.000000</td>\n",
       "      <td>94.000000</td>\n",
       "      <td>175.000000</td>\n",
       "      <td>384.000000</td>\n",
       "      <td>179.000000</td>\n",
       "      <td>102.000000</td>\n",
       "      <td>66.000000</td>\n",
       "      <td>...</td>\n",
       "      <td>0.000000</td>\n",
       "      <td>11.200000</td>\n",
       "      <td>0.000000</td>\n",
       "      <td>0.000000</td>\n",
       "      <td>0.0</td>\n",
       "      <td>0.700000</td>\n",
       "      <td>2.100000</td>\n",
       "      <td>25.825000</td>\n",
       "      <td>41.125000</td>\n",
       "      <td>6.000000</td>\n",
       "    </tr>\n",
       "    <tr>\n",
       "      <th>max</th>\n",
       "      <td>83.000000</td>\n",
       "      <td>1.000000</td>\n",
       "      <td>780.000000</td>\n",
       "      <td>176.000000</td>\n",
       "      <td>188.000000</td>\n",
       "      <td>524.000000</td>\n",
       "      <td>509.000000</td>\n",
       "      <td>381.000000</td>\n",
       "      <td>205.000000</td>\n",
       "      <td>169.000000</td>\n",
       "      <td>...</td>\n",
       "      <td>0.000000</td>\n",
       "      <td>23.600000</td>\n",
       "      <td>0.000000</td>\n",
       "      <td>0.800000</td>\n",
       "      <td>0.0</td>\n",
       "      <td>2.400000</td>\n",
       "      <td>6.000000</td>\n",
       "      <td>88.800000</td>\n",
       "      <td>115.900000</td>\n",
       "      <td>16.000000</td>\n",
       "    </tr>\n",
       "  </tbody>\n",
       "</table>\n",
       "<p>8 rows × 275 columns</p>\n",
       "</div>"
      ],
      "text/plain": [
       "              0           1           2           3           4           5    \\\n",
       "count  452.000000  452.000000  452.000000  452.000000  452.000000  452.000000   \n",
       "mean    46.471239    0.550885  166.188053   68.170354   88.920354  155.152655   \n",
       "std     16.466631    0.497955   37.170340   16.590803   15.364394   44.842283   \n",
       "min      0.000000    0.000000  105.000000    6.000000   55.000000    0.000000   \n",
       "25%     36.000000    0.000000  160.000000   59.000000   80.000000  142.000000   \n",
       "50%     47.000000    1.000000  164.000000   68.000000   86.000000  157.000000   \n",
       "75%     58.000000    1.000000  170.000000   79.000000   94.000000  175.000000   \n",
       "max     83.000000    1.000000  780.000000  176.000000  188.000000  524.000000   \n",
       "\n",
       "              6           7           8           9    ...         270  \\\n",
       "count  452.000000  452.000000  452.000000  452.000000  ...  452.000000   \n",
       "mean   367.207965  169.949115   90.004425   33.676991  ...   -0.278982   \n",
       "std     33.385421   35.633072   25.826643   45.431434  ...    0.548876   \n",
       "min    232.000000  108.000000    0.000000 -172.000000  ...   -4.100000   \n",
       "25%    350.000000  148.000000   79.000000    3.750000  ...   -0.425000   \n",
       "50%    367.000000  162.000000   91.000000   40.000000  ...    0.000000   \n",
       "75%    384.000000  179.000000  102.000000   66.000000  ...    0.000000   \n",
       "max    509.000000  381.000000  205.000000  169.000000  ...    0.000000   \n",
       "\n",
       "              271         272         273    274         275         276  \\\n",
       "count  452.000000  452.000000  452.000000  452.0  452.000000  452.000000   \n",
       "mean     9.048009   -1.457301    0.003982    0.0    0.514823    1.222345   \n",
       "std      3.472862    2.002430    0.050118    0.0    0.347531    1.426052   \n",
       "min      0.000000  -28.600000    0.000000    0.0   -0.800000   -6.000000   \n",
       "25%      6.600000   -2.100000    0.000000    0.0    0.400000    0.500000   \n",
       "50%      8.800000   -1.100000    0.000000    0.0    0.500000    1.350000   \n",
       "75%     11.200000    0.000000    0.000000    0.0    0.700000    2.100000   \n",
       "max     23.600000    0.000000    0.800000    0.0    2.400000    6.000000   \n",
       "\n",
       "              277         278         279  \n",
       "count  452.000000  452.000000  452.000000  \n",
       "mean    19.326106   29.473230    3.880531  \n",
       "std     13.503922   18.493927    4.407097  \n",
       "min    -44.200000  -38.600000    1.000000  \n",
       "25%     11.450000   17.550000    1.000000  \n",
       "50%     18.100000   27.900000    1.000000  \n",
       "75%     25.825000   41.125000    6.000000  \n",
       "max     88.800000  115.900000   16.000000  \n",
       "\n",
       "[8 rows x 275 columns]"
      ]
     },
     "execution_count": 7,
     "metadata": {},
     "output_type": "execute_result"
    }
   ],
   "source": [
    "#descriptive statistics of dataframe.\n",
    "\n",
    "df.describe()"
   ]
  },
  {
   "cell_type": "markdown",
   "metadata": {
    "id": "mUUqFfR71JbF"
   },
   "source": [
    "# 1. Data preprocessing"
   ]
  },
  {
   "cell_type": "markdown",
   "metadata": {
    "id": "7x_lFwIZ1Jbo"
   },
   "source": [
    "### Handling Missing Values\n",
    "\n",
    "<br>\n",
    "When we went through the dataset we observed that out of 279 attributes, 5 Attributes have missing value in the form \n",
    "of '?'. Our approach is \n",
    "\n",
    "- first replacing '?' with numpy.NAN.\n",
    "- Imputing the mean using Simple Imputer."
   ]
  },
  {
   "cell_type": "markdown",
   "metadata": {
    "id": "lkGjKgw31Jbp"
   },
   "source": [
    "**Checking for null values in dataset**"
   ]
  },
  {
   "cell_type": "code",
   "execution_count": 8,
   "metadata": {
    "colab": {
     "base_uri": "https://localhost:8080/"
    },
    "execution": {
     "iopub.execute_input": "2022-09-19T13:10:23.950275Z",
     "iopub.status.busy": "2022-09-19T13:10:23.949775Z",
     "iopub.status.idle": "2022-09-19T13:10:23.961110Z",
     "shell.execute_reply": "2022-09-19T13:10:23.959712Z",
     "shell.execute_reply.started": "2022-09-19T13:10:23.950226Z"
    },
    "id": "gowC_0oL1Jbp",
    "outputId": "805c3f87-2a49-4beb-998c-e8c8dbf0ec01"
   },
   "outputs": [
    {
     "data": {
      "text/plain": [
       "0"
      ]
     },
     "execution_count": 8,
     "metadata": {},
     "output_type": "execute_result"
    }
   ],
   "source": [
    "#Counting total Number of null values\n",
    "\n",
    "pd.isnull(df).sum().sum()"
   ]
  },
  {
   "cell_type": "code",
   "execution_count": 9,
   "metadata": {
    "execution": {
     "iopub.execute_input": "2022-09-19T13:10:23.964064Z",
     "iopub.status.busy": "2022-09-19T13:10:23.963112Z",
     "iopub.status.idle": "2022-09-19T13:10:23.972952Z",
     "shell.execute_reply": "2022-09-19T13:10:23.971740Z",
     "shell.execute_reply.started": "2022-09-19T13:10:23.964004Z"
    },
    "id": "Z5G4BcfO1Jbt"
   },
   "outputs": [],
   "source": [
    "#Replacing ? with np.nan value-\n",
    "\n",
    "df = df.replace('?', np.NaN)"
   ]
  },
  {
   "cell_type": "code",
   "execution_count": 10,
   "metadata": {
    "colab": {
     "base_uri": "https://localhost:8080/"
    },
    "execution": {
     "iopub.execute_input": "2022-09-19T13:10:23.977428Z",
     "iopub.status.busy": "2022-09-19T13:10:23.976706Z",
     "iopub.status.idle": "2022-09-19T13:10:23.991988Z",
     "shell.execute_reply": "2022-09-19T13:10:23.990463Z",
     "shell.execute_reply.started": "2022-09-19T13:10:23.977380Z"
    },
    "id": "8SP3RHAI1Jbw",
    "outputId": "da8f30da-37f6-4b66-8d92-c1bd0c96776c"
   },
   "outputs": [
    {
     "data": {
      "text/plain": [
       "408"
      ]
     },
     "execution_count": 10,
     "metadata": {},
     "output_type": "execute_result"
    }
   ],
   "source": [
    "#final counting total number of null values in dataset\n",
    "\n",
    "nv=pd.isnull(df).sum().sum()\n",
    "nv"
   ]
  },
  {
   "cell_type": "markdown",
   "metadata": {
    "id": "ddVfLwLw1Jbz"
   },
   "source": [
    "**Visualizing  the distribution of our missing data:**"
   ]
  },
  {
   "cell_type": "code",
   "execution_count": 11,
   "metadata": {
    "colab": {
     "base_uri": "https://localhost:8080/",
     "height": 321
    },
    "execution": {
     "iopub.execute_input": "2022-09-19T13:10:23.995794Z",
     "iopub.status.busy": "2022-09-19T13:10:23.995078Z",
     "iopub.status.idle": "2022-09-19T13:10:24.277199Z",
     "shell.execute_reply": "2022-09-19T13:10:24.276301Z",
     "shell.execute_reply.started": "2022-09-19T13:10:23.995737Z"
    },
    "id": "dYZmRnur1Jb0",
    "outputId": "4ead7bcf-619a-49e3-f736-c8646e83413d"
   },
   "outputs": [
    {
     "data": {
      "text/plain": [
       "Text(0, 0.5, 'Total number of null value in each column')"
      ]
     },
     "execution_count": 11,
     "metadata": {},
     "output_type": "execute_result"
    },
    {
     "data": {
      "image/png": "[encoded data removed]",
      "text/plain": [
       "<Figure size 640x480 with 1 Axes>"
      ]
     },
     "metadata": {},
     "output_type": "display_data"
    }
   ],
   "source": [
    "pd.isnull(df).sum().plot()\n",
    "plt.xlabel('Column numbers')\n",
    "plt.ylabel('Total number of null value in each column')"
   ]
  },
  {
   "cell_type": "code",
   "execution_count": 12,
   "metadata": {
    "colab": {
     "base_uri": "https://localhost:8080/",
     "height": 302
    },
    "execution": {
     "iopub.execute_input": "2022-09-19T13:10:26.577455Z",
     "iopub.status.busy": "2022-09-19T13:10:26.577028Z",
     "iopub.status.idle": "2022-09-19T13:10:26.858200Z",
     "shell.execute_reply": "2022-09-19T13:10:26.857006Z",
     "shell.execute_reply.started": "2022-09-19T13:10:26.577412Z"
    },
    "id": "yv8oI-_J1Jb3",
    "outputId": "c5033547-c821-4ecb-8298-a600eeda5366"
   },
   "outputs": [
    {
     "data": {
      "text/plain": [
       "Text(0, 0.5, 'Total number of null value in each column')"
      ]
     },
     "execution_count": 12,
     "metadata": {},
     "output_type": "execute_result"
    },
    {
     "data": {
      "image/png": "[encoded data removed]",
      "text/plain": [
       "<Figure size 640x480 with 1 Axes>"
      ]
     },
     "metadata": {},
     "output_type": "display_data"
    }
   ],
   "source": [
    "#Zooming in\n",
    "\n",
    "pd.isnull(df).sum()[7:17].plot(kind=\"line\")\n",
    "plt.xlabel('Columns')\n",
    "plt.ylabel('Total number of null value in each column')"
   ]
  },
  {
   "cell_type": "markdown",
   "metadata": {},
   "source": [
    "Column 13 contains more than 350 missing values out of total 452 instances. so we will drop column 13. other attributes have comparatively less null values. So instead of droping, we will replace the null value of other attributes with their mean values."
   ]
  },
  {
   "cell_type": "code",
   "execution_count": 13,
   "metadata": {
    "execution": {
     "iopub.execute_input": "2022-09-19T13:10:28.292056Z",
     "iopub.status.busy": "2022-09-19T13:10:28.291652Z",
     "iopub.status.idle": "2022-09-19T13:10:28.299972Z",
     "shell.execute_reply": "2022-09-19T13:10:28.298809Z",
     "shell.execute_reply.started": "2022-09-19T13:10:28.292024Z"
    },
    "id": "_N0LGsNs1Jb9"
   },
   "outputs": [],
   "source": [
    "#Dropping the column 13\n",
    "\n",
    "df.drop(columns = 13, inplace=True)"
   ]
  },
  {
   "cell_type": "markdown",
   "metadata": {
    "id": "4f3jshNN1Jb_"
   },
   "source": [
    "**Using the mean strategy for imputation**"
   ]
  },
  {
   "cell_type": "code",
   "execution_count": 14,
   "metadata": {
    "execution": {
     "iopub.execute_input": "2022-09-19T13:10:28.338127Z",
     "iopub.status.busy": "2022-09-19T13:10:28.337732Z",
     "iopub.status.idle": "2022-09-19T13:10:28.345367Z",
     "shell.execute_reply": "2022-09-19T13:10:28.343501Z",
     "shell.execute_reply.started": "2022-09-19T13:10:28.338096Z"
    },
    "id": "BS7xxLCr1JcA"
   },
   "outputs": [],
   "source": [
    "# make copy to avoid changing original data (when Imputing)\n",
    "\n",
    "new_df = df.copy()"
   ]
  },
  {
   "cell_type": "code",
   "execution_count": 15,
   "metadata": {
    "execution": {
     "iopub.execute_input": "2022-09-19T13:10:28.349225Z",
     "iopub.status.busy": "2022-09-19T13:10:28.348782Z",
     "iopub.status.idle": "2022-09-19T13:10:28.411827Z",
     "shell.execute_reply": "2022-09-19T13:10:28.410677Z",
     "shell.execute_reply.started": "2022-09-19T13:10:28.349178Z"
    },
    "id": "iMolbQAe1JcC"
   },
   "outputs": [],
   "source": [
    "# make new columns indicating what will be imputed\n",
    "\n",
    "cols_with_missing = (col for col in new_df.columns if new_df[col].isnull().any())\n",
    "for col in cols_with_missing:\n",
    "    new_df[col] = new_df[col].isnull()"
   ]
  },
  {
   "cell_type": "code",
   "execution_count": 16,
   "metadata": {
    "execution": {
     "iopub.execute_input": "2022-09-19T13:10:28.415101Z",
     "iopub.status.busy": "2022-09-19T13:10:28.414120Z",
     "iopub.status.idle": "2022-09-19T13:10:28.460690Z",
     "shell.execute_reply": "2022-09-19T13:10:28.458867Z",
     "shell.execute_reply.started": "2022-09-19T13:10:28.415046Z"
    },
    "id": "2dsw6kII1JcF"
   },
   "outputs": [],
   "source": [
    "# Imputation\n",
    "# my_imputer = SimpleImputer(missing_values=np.nan, strategy='mean')\n",
    "\n",
    "my_imputer = SimpleImputer()\n",
    "new_df = pd.DataFrame(my_imputer.fit_transform(new_df))\n",
    "new_df.columns = df.columns"
   ]
  },
  {
   "cell_type": "code",
   "execution_count": 17,
   "metadata": {
    "colab": {
     "base_uri": "https://localhost:8080/",
     "height": 255
    },
    "execution": {
     "iopub.execute_input": "2022-09-19T13:10:28.463294Z",
     "iopub.status.busy": "2022-09-19T13:10:28.462097Z",
     "iopub.status.idle": "2022-09-19T13:10:28.500254Z",
     "shell.execute_reply": "2022-09-19T13:10:28.498975Z",
     "shell.execute_reply.started": "2022-09-19T13:10:28.463222Z"
    },
    "id": "ColsJv0J1JcJ",
    "outputId": "edad166d-b9e4-491b-f3fa-4d41dab2c294"
   },
   "outputs": [
    {
     "data": {
      "text/html": [
       "<div>\n",
       "<style scoped>\n",
       "    .dataframe tbody tr th:only-of-type {\n",
       "        vertical-align: middle;\n",
       "    }\n",
       "\n",
       "    .dataframe tbody tr th {\n",
       "        vertical-align: top;\n",
       "    }\n",
       "\n",
       "    .dataframe thead th {\n",
       "        text-align: right;\n",
       "    }\n",
       "</style>\n",
       "<table border=\"1\" class=\"dataframe\">\n",
       "  <thead>\n",
       "    <tr style=\"text-align: right;\">\n",
       "      <th></th>\n",
       "      <th>0</th>\n",
       "      <th>1</th>\n",
       "      <th>2</th>\n",
       "      <th>3</th>\n",
       "      <th>4</th>\n",
       "      <th>5</th>\n",
       "      <th>6</th>\n",
       "      <th>7</th>\n",
       "      <th>8</th>\n",
       "      <th>9</th>\n",
       "      <th>...</th>\n",
       "      <th>270</th>\n",
       "      <th>271</th>\n",
       "      <th>272</th>\n",
       "      <th>273</th>\n",
       "      <th>274</th>\n",
       "      <th>275</th>\n",
       "      <th>276</th>\n",
       "      <th>277</th>\n",
       "      <th>278</th>\n",
       "      <th>279</th>\n",
       "    </tr>\n",
       "  </thead>\n",
       "  <tbody>\n",
       "    <tr>\n",
       "      <th>0</th>\n",
       "      <td>75.0</td>\n",
       "      <td>0.0</td>\n",
       "      <td>190.0</td>\n",
       "      <td>80.0</td>\n",
       "      <td>91.0</td>\n",
       "      <td>193.0</td>\n",
       "      <td>371.0</td>\n",
       "      <td>174.0</td>\n",
       "      <td>121.0</td>\n",
       "      <td>-16.0</td>\n",
       "      <td>...</td>\n",
       "      <td>0.0</td>\n",
       "      <td>9.0</td>\n",
       "      <td>-0.9</td>\n",
       "      <td>0.0</td>\n",
       "      <td>0.0</td>\n",
       "      <td>0.9</td>\n",
       "      <td>2.9</td>\n",
       "      <td>23.3</td>\n",
       "      <td>49.4</td>\n",
       "      <td>8.0</td>\n",
       "    </tr>\n",
       "    <tr>\n",
       "      <th>1</th>\n",
       "      <td>56.0</td>\n",
       "      <td>1.0</td>\n",
       "      <td>165.0</td>\n",
       "      <td>64.0</td>\n",
       "      <td>81.0</td>\n",
       "      <td>174.0</td>\n",
       "      <td>401.0</td>\n",
       "      <td>149.0</td>\n",
       "      <td>39.0</td>\n",
       "      <td>25.0</td>\n",
       "      <td>...</td>\n",
       "      <td>0.0</td>\n",
       "      <td>8.5</td>\n",
       "      <td>0.0</td>\n",
       "      <td>0.0</td>\n",
       "      <td>0.0</td>\n",
       "      <td>0.2</td>\n",
       "      <td>2.1</td>\n",
       "      <td>20.4</td>\n",
       "      <td>38.8</td>\n",
       "      <td>6.0</td>\n",
       "    </tr>\n",
       "    <tr>\n",
       "      <th>2</th>\n",
       "      <td>54.0</td>\n",
       "      <td>0.0</td>\n",
       "      <td>172.0</td>\n",
       "      <td>95.0</td>\n",
       "      <td>138.0</td>\n",
       "      <td>163.0</td>\n",
       "      <td>386.0</td>\n",
       "      <td>185.0</td>\n",
       "      <td>102.0</td>\n",
       "      <td>96.0</td>\n",
       "      <td>...</td>\n",
       "      <td>0.0</td>\n",
       "      <td>9.5</td>\n",
       "      <td>-2.4</td>\n",
       "      <td>0.0</td>\n",
       "      <td>0.0</td>\n",
       "      <td>0.3</td>\n",
       "      <td>3.4</td>\n",
       "      <td>12.3</td>\n",
       "      <td>49.0</td>\n",
       "      <td>10.0</td>\n",
       "    </tr>\n",
       "    <tr>\n",
       "      <th>3</th>\n",
       "      <td>55.0</td>\n",
       "      <td>0.0</td>\n",
       "      <td>175.0</td>\n",
       "      <td>94.0</td>\n",
       "      <td>100.0</td>\n",
       "      <td>202.0</td>\n",
       "      <td>380.0</td>\n",
       "      <td>179.0</td>\n",
       "      <td>143.0</td>\n",
       "      <td>28.0</td>\n",
       "      <td>...</td>\n",
       "      <td>0.0</td>\n",
       "      <td>12.2</td>\n",
       "      <td>-2.2</td>\n",
       "      <td>0.0</td>\n",
       "      <td>0.0</td>\n",
       "      <td>0.4</td>\n",
       "      <td>2.6</td>\n",
       "      <td>34.6</td>\n",
       "      <td>61.6</td>\n",
       "      <td>1.0</td>\n",
       "    </tr>\n",
       "    <tr>\n",
       "      <th>4</th>\n",
       "      <td>75.0</td>\n",
       "      <td>0.0</td>\n",
       "      <td>190.0</td>\n",
       "      <td>80.0</td>\n",
       "      <td>88.0</td>\n",
       "      <td>181.0</td>\n",
       "      <td>360.0</td>\n",
       "      <td>177.0</td>\n",
       "      <td>103.0</td>\n",
       "      <td>-16.0</td>\n",
       "      <td>...</td>\n",
       "      <td>0.0</td>\n",
       "      <td>13.1</td>\n",
       "      <td>-3.6</td>\n",
       "      <td>0.0</td>\n",
       "      <td>0.0</td>\n",
       "      <td>-0.1</td>\n",
       "      <td>3.9</td>\n",
       "      <td>25.4</td>\n",
       "      <td>62.8</td>\n",
       "      <td>7.0</td>\n",
       "    </tr>\n",
       "  </tbody>\n",
       "</table>\n",
       "<p>5 rows × 279 columns</p>\n",
       "</div>"
      ],
      "text/plain": [
       "    0    1      2     3      4      5      6      7      8     9    ...  270  \\\n",
       "0  75.0  0.0  190.0  80.0   91.0  193.0  371.0  174.0  121.0 -16.0  ...  0.0   \n",
       "1  56.0  1.0  165.0  64.0   81.0  174.0  401.0  149.0   39.0  25.0  ...  0.0   \n",
       "2  54.0  0.0  172.0  95.0  138.0  163.0  386.0  185.0  102.0  96.0  ...  0.0   \n",
       "3  55.0  0.0  175.0  94.0  100.0  202.0  380.0  179.0  143.0  28.0  ...  0.0   \n",
       "4  75.0  0.0  190.0  80.0   88.0  181.0  360.0  177.0  103.0 -16.0  ...  0.0   \n",
       "\n",
       "    271  272  273  274  275  276   277   278   279  \n",
       "0   9.0 -0.9  0.0  0.0  0.9  2.9  23.3  49.4   8.0  \n",
       "1   8.5  0.0  0.0  0.0  0.2  2.1  20.4  38.8   6.0  \n",
       "2   9.5 -2.4  0.0  0.0  0.3  3.4  12.3  49.0  10.0  \n",
       "3  12.2 -2.2  0.0  0.0  0.4  2.6  34.6  61.6   1.0  \n",
       "4  13.1 -3.6  0.0  0.0 -0.1  3.9  25.4  62.8   7.0  \n",
       "\n",
       "[5 rows x 279 columns]"
      ]
     },
     "execution_count": 17,
     "metadata": {},
     "output_type": "execute_result"
    }
   ],
   "source": [
    "# imputed dataframe\n",
    "\n",
    "new_df.head()"
   ]
  },
  {
   "cell_type": "code",
   "execution_count": 18,
   "metadata": {
    "colab": {
     "base_uri": "https://localhost:8080/"
    },
    "execution": {
     "iopub.execute_input": "2022-09-19T13:10:28.504218Z",
     "iopub.status.busy": "2022-09-19T13:10:28.502839Z",
     "iopub.status.idle": "2022-09-19T13:10:28.515078Z",
     "shell.execute_reply": "2022-09-19T13:10:28.513872Z",
     "shell.execute_reply.started": "2022-09-19T13:10:28.504178Z"
    },
    "id": "fuqgoZT01JcM",
    "outputId": "98b78465-141a-4a17-f767-c5d54cd6bf73"
   },
   "outputs": [
    {
     "data": {
      "text/plain": [
       "0"
      ]
     },
     "execution_count": 18,
     "metadata": {},
     "output_type": "execute_result"
    }
   ],
   "source": [
    "# DataSet with Zero null Values.\n",
    "\n",
    "pd.isnull(new_df).sum().sum()"
   ]
  },
  {
   "cell_type": "markdown",
   "metadata": {
    "id": "pqtcjgG_1JcP"
   },
   "source": [
    "**Generating final dataset**"
   ]
  },
  {
   "cell_type": "code",
   "execution_count": 19,
   "metadata": {
    "execution": {
     "iopub.execute_input": "2022-09-19T13:10:29.779018Z",
     "iopub.status.busy": "2022-09-19T13:10:29.778574Z",
     "iopub.status.idle": "2022-09-19T13:10:29.796120Z",
     "shell.execute_reply": "2022-09-19T13:10:29.794901Z",
     "shell.execute_reply.started": "2022-09-19T13:10:29.778982Z"
    },
    "id": "f5FlHdB81JcQ"
   },
   "outputs": [],
   "source": [
    "#Creating column names\n",
    "\n",
    "final_df_columns=[\"Age\",\"Sex\",\"Height\",\"Weight\",\"QRS_Dur\",\n",
    "\"P-R_Int\",\"Q-T_Int\",\"T_Int\",\"P_Int\",\"QRS\",\"T\",\"P\",\"J\",\"Heart_Rate\",\n",
    "\"Q_Wave\",\"R_Wave\",\"S_Wave\",\"R'_Wave\",\"S'_Wave\",\"Int_Def\",\"Rag_R_Nom\",\n",
    "\"Diph_R_Nom\",\"Rag_P_Nom\",\"Diph_P_Nom\",\"Rag_T_Nom\",\"Diph_T_Nom\", \n",
    "\"DII00\", \"DII01\",\"DII02\", \"DII03\", \"DII04\",\"DII05\",\"DII06\",\"DII07\",\"DII08\",\"DII09\",\"DII10\",\"DII11\",\n",
    "\"DIII00\",\"DIII01\",\"DIII02\", \"DIII03\", \"DIII04\",\"DIII05\",\"DIII06\",\"DIII07\",\"DIII08\",\"DIII09\",\"DIII10\",\"DIII11\",\n",
    "\"AVR00\",\"AVR01\",\"AVR02\",\"AVR03\",\"AVR04\",\"AVR05\",\"AVR06\",\"AVR07\",\"AVR08\",\"AVR09\",\"AVR10\",\"AVR11\",\n",
    "\"AVL00\",\"AVL01\",\"AVL02\",\"AVL03\",\"AVL04\",\"AVL05\",\"AVL06\",\"AVL07\",\"AVL08\",\"AVL09\",\"AVL10\",\"AVL11\",\n",
    "\"AVF00\",\"AVF01\",\"AVF02\",\"AVF03\",\"AVF04\",\"AVF05\",\"AVF06\",\"AVF07\",\"AVF08\",\"AVF09\",\"AVF10\",\"AVF11\",\n",
    "\"V100\",\"V101\",\"V102\",\"V103\",\"V104\",\"V105\",\"V106\",\"V107\",\"V108\",\"V109\",\"V110\",\"V111\",\n",
    "\"V200\",\"V201\",\"V202\",\"V203\",\"V204\",\"V205\",\"V206\",\"V207\",\"V208\",\"V209\",\"V210\",\"V211\",\n",
    "\"V300\",\"V301\",\"V302\",\"V303\",\"V304\",\"V305\",\"V306\",\"V307\",\"V308\",\"V309\",\"V310\",\"V311\",\n",
    "\"V400\",\"V401\",\"V402\",\"V403\",\"V404\",\"V405\",\"V406\",\"V407\",\"V408\",\"V409\",\"V410\",\"V411\",\n",
    "\"V500\",\"V501\",\"V502\",\"V503\",\"V504\",\"V505\",\"V506\",\"V507\",\"V508\",\"V509\",\"V510\",\"V511\",\n",
    "\"V600\",\"V601\",\"V602\",\"V603\",\"V604\",\"V605\",\"V606\",\"V607\",\"V608\",\"V609\",\"V610\",\"V611\",\n",
    "\"JJ_Wave\",\"Amp_Q_Wave\",\"Amp_R_Wave\",\"Amp_S_Wave\",\"R_Prime_Wave\",\"S_Prime_Wave\",\"P_Wave\",\"T_Wave\",\n",
    "\"QRSA\",\"QRSTA\",\"DII170\",\"DII171\",\"DII172\",\"DII173\",\"DII174\",\"DII175\",\"DII176\",\"DII177\",\"DII178\",\"DII179\",\n",
    "\"DIII180\",\"DIII181\",\"DIII182\",\"DIII183\",\"DIII184\",\"DIII185\",\"DIII186\",\"DIII187\",\"DIII188\",\"DIII189\",\n",
    "\"AVR190\",\"AVR191\",\"AVR192\",\"AVR193\",\"AVR194\",\"AVR195\",\"AVR196\",\"AVR197\",\"AVR198\",\"AVR199\",\n",
    "\"AVL200\",\"AVL201\",\"AVL202\",\"AVL203\",\"AVL204\",\"AVL205\",\"AVL206\",\"AVL207\",\"AVL208\",\"AVL209\",\n",
    "\"AVF210\",\"AVF211\",\"AVF212\",\"AVF213\",\"AVF214\",\"AVF215\",\"AVF216\",\"AVF217\",\"AVF218\",\"AVF219\",\n",
    "\"V1220\",\"V1221\",\"V1222\",\"V1223\",\"V1224\",\"V1225\",\"V1226\",\"V1227\",\"V1228\",\"V1229\",\n",
    "\"V2230\",\"V2231\",\"V2232\",\"V2233\",\"V2234\",\"V2235\",\"V2236\",\"V2237\",\"V2238\",\"V2239\",\n",
    "\"V3240\",\"V3241\",\"V3242\",\"V3243\",\"V3244\",\"V3245\",\"V3246\",\"V3247\",\"V3248\",\"V3249\",\n",
    "\"V4250\",\"V4251\",\"V4252\",\"V4253\",\"V4254\",\"V4255\",\"V4256\",\"V4257\",\"V4258\",\"V4259\",\n",
    "\"V5260\",\"V5261\",\"V5262\",\"V5263\",\"V5264\",\"V5265\",\"V5266\",\"V5267\",\"V5268\",\"V5269\",\n",
    "\"V6270\",\"V6271\",\"V6272\",\"V6273\",\"V6274\",\"V6275\",\"V6276\",\"V6277\",\"V6278\",\"V6279\",\"class\"]"
   ]
  },
  {
   "cell_type": "code",
   "execution_count": 20,
   "metadata": {
    "colab": {
     "base_uri": "https://localhost:8080/",
     "height": 255
    },
    "execution": {
     "iopub.execute_input": "2022-09-19T13:10:29.834943Z",
     "iopub.status.busy": "2022-09-19T13:10:29.834219Z",
     "iopub.status.idle": "2022-09-19T13:10:29.946851Z",
     "shell.execute_reply": "2022-09-19T13:10:29.945503Z",
     "shell.execute_reply.started": "2022-09-19T13:10:29.834903Z"
    },
    "id": "yGXCWE_N1JcS",
    "outputId": "54113ae3-713c-4f1b-b48d-879aad634626"
   },
   "outputs": [
    {
     "data": {
      "text/html": [
       "<div>\n",
       "<style scoped>\n",
       "    .dataframe tbody tr th:only-of-type {\n",
       "        vertical-align: middle;\n",
       "    }\n",
       "\n",
       "    .dataframe tbody tr th {\n",
       "        vertical-align: top;\n",
       "    }\n",
       "\n",
       "    .dataframe thead th {\n",
       "        text-align: right;\n",
       "    }\n",
       "</style>\n",
       "<table border=\"1\" class=\"dataframe\">\n",
       "  <thead>\n",
       "    <tr style=\"text-align: right;\">\n",
       "      <th></th>\n",
       "      <th>Age</th>\n",
       "      <th>Sex</th>\n",
       "      <th>Height</th>\n",
       "      <th>Weight</th>\n",
       "      <th>QRS_Dur</th>\n",
       "      <th>P-R_Int</th>\n",
       "      <th>Q-T_Int</th>\n",
       "      <th>T_Int</th>\n",
       "      <th>P_Int</th>\n",
       "      <th>QRS</th>\n",
       "      <th>...</th>\n",
       "      <th>V6271</th>\n",
       "      <th>V6272</th>\n",
       "      <th>V6273</th>\n",
       "      <th>V6274</th>\n",
       "      <th>V6275</th>\n",
       "      <th>V6276</th>\n",
       "      <th>V6277</th>\n",
       "      <th>V6278</th>\n",
       "      <th>V6279</th>\n",
       "      <th>class</th>\n",
       "    </tr>\n",
       "  </thead>\n",
       "  <tbody>\n",
       "    <tr>\n",
       "      <th>0</th>\n",
       "      <td>75.0</td>\n",
       "      <td>0.0</td>\n",
       "      <td>190.0</td>\n",
       "      <td>80.0</td>\n",
       "      <td>91.0</td>\n",
       "      <td>193.0</td>\n",
       "      <td>371.0</td>\n",
       "      <td>174.0</td>\n",
       "      <td>121.0</td>\n",
       "      <td>-16.0</td>\n",
       "      <td>...</td>\n",
       "      <td>0.0</td>\n",
       "      <td>9.0</td>\n",
       "      <td>-0.9</td>\n",
       "      <td>0.0</td>\n",
       "      <td>0.0</td>\n",
       "      <td>0.9</td>\n",
       "      <td>2.9</td>\n",
       "      <td>23.3</td>\n",
       "      <td>49.4</td>\n",
       "      <td>8.0</td>\n",
       "    </tr>\n",
       "    <tr>\n",
       "      <th>1</th>\n",
       "      <td>56.0</td>\n",
       "      <td>1.0</td>\n",
       "      <td>165.0</td>\n",
       "      <td>64.0</td>\n",
       "      <td>81.0</td>\n",
       "      <td>174.0</td>\n",
       "      <td>401.0</td>\n",
       "      <td>149.0</td>\n",
       "      <td>39.0</td>\n",
       "      <td>25.0</td>\n",
       "      <td>...</td>\n",
       "      <td>0.0</td>\n",
       "      <td>8.5</td>\n",
       "      <td>0.0</td>\n",
       "      <td>0.0</td>\n",
       "      <td>0.0</td>\n",
       "      <td>0.2</td>\n",
       "      <td>2.1</td>\n",
       "      <td>20.4</td>\n",
       "      <td>38.8</td>\n",
       "      <td>6.0</td>\n",
       "    </tr>\n",
       "    <tr>\n",
       "      <th>2</th>\n",
       "      <td>54.0</td>\n",
       "      <td>0.0</td>\n",
       "      <td>172.0</td>\n",
       "      <td>95.0</td>\n",
       "      <td>138.0</td>\n",
       "      <td>163.0</td>\n",
       "      <td>386.0</td>\n",
       "      <td>185.0</td>\n",
       "      <td>102.0</td>\n",
       "      <td>96.0</td>\n",
       "      <td>...</td>\n",
       "      <td>0.0</td>\n",
       "      <td>9.5</td>\n",
       "      <td>-2.4</td>\n",
       "      <td>0.0</td>\n",
       "      <td>0.0</td>\n",
       "      <td>0.3</td>\n",
       "      <td>3.4</td>\n",
       "      <td>12.3</td>\n",
       "      <td>49.0</td>\n",
       "      <td>10.0</td>\n",
       "    </tr>\n",
       "    <tr>\n",
       "      <th>3</th>\n",
       "      <td>55.0</td>\n",
       "      <td>0.0</td>\n",
       "      <td>175.0</td>\n",
       "      <td>94.0</td>\n",
       "      <td>100.0</td>\n",
       "      <td>202.0</td>\n",
       "      <td>380.0</td>\n",
       "      <td>179.0</td>\n",
       "      <td>143.0</td>\n",
       "      <td>28.0</td>\n",
       "      <td>...</td>\n",
       "      <td>0.0</td>\n",
       "      <td>12.2</td>\n",
       "      <td>-2.2</td>\n",
       "      <td>0.0</td>\n",
       "      <td>0.0</td>\n",
       "      <td>0.4</td>\n",
       "      <td>2.6</td>\n",
       "      <td>34.6</td>\n",
       "      <td>61.6</td>\n",
       "      <td>1.0</td>\n",
       "    </tr>\n",
       "    <tr>\n",
       "      <th>4</th>\n",
       "      <td>75.0</td>\n",
       "      <td>0.0</td>\n",
       "      <td>190.0</td>\n",
       "      <td>80.0</td>\n",
       "      <td>88.0</td>\n",
       "      <td>181.0</td>\n",
       "      <td>360.0</td>\n",
       "      <td>177.0</td>\n",
       "      <td>103.0</td>\n",
       "      <td>-16.0</td>\n",
       "      <td>...</td>\n",
       "      <td>0.0</td>\n",
       "      <td>13.1</td>\n",
       "      <td>-3.6</td>\n",
       "      <td>0.0</td>\n",
       "      <td>0.0</td>\n",
       "      <td>-0.1</td>\n",
       "      <td>3.9</td>\n",
       "      <td>25.4</td>\n",
       "      <td>62.8</td>\n",
       "      <td>7.0</td>\n",
       "    </tr>\n",
       "  </tbody>\n",
       "</table>\n",
       "<p>5 rows × 279 columns</p>\n",
       "</div>"
      ],
      "text/plain": [
       "    Age  Sex  Height  Weight  QRS_Dur  P-R_Int  Q-T_Int  T_Int  P_Int   QRS  \\\n",
       "0  75.0  0.0   190.0    80.0     91.0    193.0    371.0  174.0  121.0 -16.0   \n",
       "1  56.0  1.0   165.0    64.0     81.0    174.0    401.0  149.0   39.0  25.0   \n",
       "2  54.0  0.0   172.0    95.0    138.0    163.0    386.0  185.0  102.0  96.0   \n",
       "3  55.0  0.0   175.0    94.0    100.0    202.0    380.0  179.0  143.0  28.0   \n",
       "4  75.0  0.0   190.0    80.0     88.0    181.0    360.0  177.0  103.0 -16.0   \n",
       "\n",
       "   ...  V6271  V6272  V6273  V6274  V6275  V6276  V6277  V6278  V6279  class  \n",
       "0  ...    0.0    9.0   -0.9    0.0    0.0    0.9    2.9   23.3   49.4    8.0  \n",
       "1  ...    0.0    8.5    0.0    0.0    0.0    0.2    2.1   20.4   38.8    6.0  \n",
       "2  ...    0.0    9.5   -2.4    0.0    0.0    0.3    3.4   12.3   49.0   10.0  \n",
       "3  ...    0.0   12.2   -2.2    0.0    0.0    0.4    2.6   34.6   61.6    1.0  \n",
       "4  ...    0.0   13.1   -3.6    0.0    0.0   -0.1    3.9   25.4   62.8    7.0  \n",
       "\n",
       "[5 rows x 279 columns]"
      ]
     },
     "execution_count": 20,
     "metadata": {},
     "output_type": "execute_result"
    }
   ],
   "source": [
    "#Adding Column names to dataset\n",
    "\n",
    "new_df.columns=final_df_columns\n",
    "new_df.to_csv(\"new data with target class.csv\")\n",
    "new_df.head()"
   ]
  },
  {
   "cell_type": "markdown",
   "metadata": {},
   "source": [
    "As our dataframe is completely cleaned and preprocessed. we will remove the target attribute and store our final dataframe."
   ]
  },
  {
   "cell_type": "code",
   "execution_count": 21,
   "metadata": {
    "execution": {
     "iopub.execute_input": "2022-09-19T13:10:34.856514Z",
     "iopub.status.busy": "2022-09-19T13:10:34.856093Z",
     "iopub.status.idle": "2022-09-19T13:10:34.863395Z",
     "shell.execute_reply": "2022-09-19T13:10:34.862150Z",
     "shell.execute_reply.started": "2022-09-19T13:10:34.856482Z"
    }
   },
   "outputs": [],
   "source": [
    "target=new_df[\"class\"]\n",
    "\n",
    "final_df = new_df.drop(columns =\"class\")"
   ]
  },
  {
   "cell_type": "code",
   "execution_count": 22,
   "metadata": {
    "colab": {
     "base_uri": "https://localhost:8080/",
     "height": 255
    },
    "execution": {
     "iopub.execute_input": "2022-09-19T13:10:34.865684Z",
     "iopub.status.busy": "2022-09-19T13:10:34.865270Z",
     "iopub.status.idle": "2022-09-19T13:10:34.883010Z",
     "shell.execute_reply": "2022-09-19T13:10:34.882045Z",
     "shell.execute_reply.started": "2022-09-19T13:10:34.865649Z"
    },
    "id": "N-PlnyUp1JcU",
    "outputId": "7204a9d2-8cbc-4ee4-9232-422d9c32d624"
   },
   "outputs": [
    {
     "data": {
      "text/plain": [
       "(452, 278)"
      ]
     },
     "execution_count": 22,
     "metadata": {},
     "output_type": "execute_result"
    }
   ],
   "source": [
    "final_df.shape"
   ]
  },
  {
   "cell_type": "markdown",
   "metadata": {
    "id": "kl_IqSwy1Jca"
   },
   "source": [
    "# 2. Exploratory Data Analysis (EDA)\n",
    "\n",
    "Analyzing data sets to summarize their main characteristics."
   ]
  },
  {
   "cell_type": "markdown",
   "metadata": {
    "id": "lNKH5Nd81Jcb"
   },
   "source": [
    "Making List of all the type of Arrythmia corresponsing to their class label"
   ]
  },
  {
   "cell_type": "code",
   "execution_count": 23,
   "metadata": {
    "execution": {
     "iopub.execute_input": "2022-09-19T13:10:36.647432Z",
     "iopub.status.busy": "2022-09-19T13:10:36.646979Z",
     "iopub.status.idle": "2022-09-19T13:10:36.653577Z",
     "shell.execute_reply": "2022-09-19T13:10:36.652331Z",
     "shell.execute_reply.started": "2022-09-19T13:10:36.647397Z"
    },
    "id": "ziL8KWK81Jcc"
   },
   "outputs": [],
   "source": [
    "#List with class names\n",
    "\n",
    "class_names = [\"Normal\", \n",
    "               \"Ischemic changes (CAD)\", \n",
    "               \"Old Anterior Myocardial Infraction\",\n",
    "               \"Old Inferior Myocardial Infraction\",\n",
    "               \"Sinus tachycardy\", \n",
    "               \"Sinus bradycardy\", \n",
    "               \"Ventricular Premature Contraction (PVC)\",\n",
    "               \"Supraventricular Premature Contraction\",\n",
    "               \"Left Boundle branch block\",\n",
    "               \"Right boundle branch block\",\n",
    "               \"1.Degree AtrioVentricular block\",\n",
    "               \"2.Degree AV block\",\n",
    "               \"3.Degree AV block\",\n",
    "               \"Left Ventricule hypertrophy\",\n",
    "               \"Atrial Fibrillation or Flutter\",\n",
    "               \"Others\"]"
   ]
  },
  {
   "cell_type": "markdown",
   "metadata": {
    "id": "KSxfo2bv1Jce"
   },
   "source": [
    "### Analyzing the dataset and check how many examples we have for each class:\n",
    "we need to sort our dataset with respect to class attributes to count the number of instances available for each class"
   ]
  },
  {
   "cell_type": "code",
   "execution_count": 24,
   "metadata": {
    "execution": {
     "iopub.execute_input": "2022-09-19T13:10:36.656613Z",
     "iopub.status.busy": "2022-09-19T13:10:36.655858Z",
     "iopub.status.idle": "2022-09-19T13:10:36.669669Z",
     "shell.execute_reply": "2022-09-19T13:10:36.668498Z",
     "shell.execute_reply.started": "2022-09-19T13:10:36.656564Z"
    },
    "id": "P85a0KIG1Jci"
   },
   "outputs": [],
   "source": [
    "t=new_df.sort_values(by=[\"class\"])"
   ]
  },
  {
   "cell_type": "code",
   "execution_count": 25,
   "metadata": {
    "colab": {
     "base_uri": "https://localhost:8080/"
    },
    "execution": {
     "iopub.execute_input": "2022-09-19T13:10:36.698065Z",
     "iopub.status.busy": "2022-09-19T13:10:36.697654Z",
     "iopub.status.idle": "2022-09-19T13:10:36.706998Z",
     "shell.execute_reply": "2022-09-19T13:10:36.705741Z",
     "shell.execute_reply.started": "2022-09-19T13:10:36.698032Z"
    },
    "id": "iPjqfB9P1Jcl",
    "outputId": "94ac7294-62ca-48b5-822a-63ef21506cd3"
   },
   "outputs": [
    {
     "data": {
      "text/plain": [
       "[245, 44, 15, 15, 13, 25, 3, 2, 9, 50, 4, 5, 22]"
      ]
     },
     "execution_count": 25,
     "metadata": {},
     "output_type": "execute_result"
    }
   ],
   "source": [
    "# Counting the number of instances for each class\n",
    "\n",
    "la = t[\"class\"].value_counts(sort=False).tolist()\n",
    "la"
   ]
  },
  {
   "cell_type": "code",
   "execution_count": 26,
   "metadata": {
    "execution": {
     "iopub.execute_input": "2022-09-19T13:10:36.711075Z",
     "iopub.status.busy": "2022-09-19T13:10:36.710201Z",
     "iopub.status.idle": "2022-09-19T13:10:36.989751Z",
     "shell.execute_reply": "2022-09-19T13:10:36.988440Z",
     "shell.execute_reply.started": "2022-09-19T13:10:36.711011Z"
    }
   },
   "outputs": [
    {
     "data": {
      "image/png": "[encoded data removed]",
      "text/plain": [
       "<Figure size 640x480 with 1 Axes>"
      ]
     },
     "metadata": {},
     "output_type": "display_data"
    }
   ],
   "source": [
    "sns.countplot(x ='class',data =new_df) \n",
    "plt.show() "
   ]
  },
  {
   "cell_type": "markdown",
   "metadata": {},
   "source": [
    "Lets Count the total number of instances we have for each class."
   ]
  },
  {
   "cell_type": "code",
   "execution_count": 27,
   "metadata": {
    "colab": {
     "base_uri": "https://localhost:8080/",
     "height": 656
    },
    "execution": {
     "iopub.execute_input": "2022-09-19T13:10:36.991439Z",
     "iopub.status.busy": "2022-09-19T13:10:36.991060Z",
     "iopub.status.idle": "2022-09-19T13:10:36.998168Z",
     "shell.execute_reply": "2022-09-19T13:10:36.996903Z",
     "shell.execute_reply.started": "2022-09-19T13:10:36.991405Z"
    },
    "id": "tI_4FV7P1Jcn",
    "outputId": "d985bbca-bdc5-430f-ef48-7be025084b82"
   },
   "outputs": [
    {
     "name": "stdout",
     "output_type": "stream",
     "text": [
      "[245, 44, 15, 15, 13, 25, 3, 2, 9, 50, 0, 0, 0, 4, 5, 22]\n"
     ]
    }
   ],
   "source": [
    "values = la[0:10]\n",
    "values.extend([0,0,0])\n",
    "values.extend(la[10:13])\n",
    "print(values)\n"
   ]
  },
  {
   "cell_type": "code",
   "execution_count": 28,
   "metadata": {
    "execution": {
     "iopub.execute_input": "2022-09-19T13:10:37.000500Z",
     "iopub.status.busy": "2022-09-19T13:10:36.999991Z",
     "iopub.status.idle": "2022-09-19T13:10:37.708938Z",
     "shell.execute_reply": "2022-09-19T13:10:37.707779Z",
     "shell.execute_reply.started": "2022-09-19T13:10:37.000462Z"
    }
   },
   "outputs": [
    {
     "data": {
      "image/png": "[encoded data removed]",
      "text/plain": [
       "<Figure size 1600x900 with 1 Axes>"
      ]
     },
     "metadata": {},
     "output_type": "display_data"
    }
   ],
   "source": [
    "labels = class_names\n",
    "Log_Norm = []\n",
    "for i in values:\n",
    "    Log_Norm.append(mt.log10(i+1))\n",
    "fig1, ax1 = plt.subplots(figsize=(16,9))\n",
    "patches = plt.pie(Log_Norm, autopct='%1.1f%%', startangle=90)\n",
    "\n",
    "leg = plt.legend( loc = 'best', labels=['%s, %1.1f %%' % (l, s) for l, s in zip(labels, Log_Norm)])\n",
    "plt.axis('equal')\n",
    "\n",
    "for text in leg.get_texts():\n",
    "    plt.setp(text, color = 'Black')\n",
    "plt.tight_layout()\n",
    "plt.show()"
   ]
  },
  {
   "cell_type": "markdown",
   "metadata": {
    "id": "RmfK89wRFShA"
   },
   "source": [
    "\n",
    "We found that Of the 452 examples, 245 are of class A which refers to \"normal\" people. We also have 12 different types of arrhythmias and 3 other type of arrthmias are not present in our dataset.\n"
   ]
  },
  {
   "cell_type": "markdown",
   "metadata": {
    "id": "IjqBY48R1Jc-"
   },
   "source": [
    "### Handling Outliers & Data Visualization"
   ]
  },
  {
   "cell_type": "code",
   "execution_count": 29,
   "metadata": {
    "colab": {
     "base_uri": "https://localhost:8080/",
     "height": 722
    },
    "execution": {
     "iopub.execute_input": "2022-09-19T13:10:37.713174Z",
     "iopub.status.busy": "2022-09-19T13:10:37.712228Z",
     "iopub.status.idle": "2022-09-19T13:10:41.794289Z",
     "shell.execute_reply": "2022-09-19T13:10:41.792701Z",
     "shell.execute_reply.started": "2022-09-19T13:10:37.713123Z"
    },
    "id": "vs0EfHJd1JdA",
    "outputId": "3259e293-1e1f-4e72-ee6e-56165379c71a"
   },
   "outputs": [
    {
     "data": {
      "image/png": "[encoded data removed]",
      "text/plain": [
       "<Figure size 1072x1000 with 16 Axes>"
      ]
     },
     "metadata": {},
     "output_type": "display_data"
    }
   ],
   "source": [
    "#looking for pairwise relationships and outliers\n",
    "\n",
    "g = sns.PairGrid(final_df, vars=['Age', 'Sex', 'Height', 'Weight'],hue='Sex', palette='BrBG')\n",
    "g.map(plt.scatter, alpha=0.8)\n",
    "g.add_legend();"
   ]
  },
  {
   "cell_type": "markdown",
   "metadata": {
    "id": "wsWpYkcw1JdC"
   },
   "source": [
    "According to scatter plots, there are few outliers in 'height' and 'weight' attributes.check the maximums of heights and weights"
   ]
  },
  {
   "cell_type": "code",
   "execution_count": 30,
   "metadata": {
    "colab": {
     "base_uri": "https://localhost:8080/"
    },
    "execution": {
     "iopub.execute_input": "2022-09-19T13:10:41.797258Z",
     "iopub.status.busy": "2022-09-19T13:10:41.796785Z",
     "iopub.status.idle": "2022-09-19T13:10:41.806246Z",
     "shell.execute_reply": "2022-09-19T13:10:41.804778Z",
     "shell.execute_reply.started": "2022-09-19T13:10:41.797201Z"
    },
    "id": "HUKGpOCX1JdC",
    "outputId": "89f12eca-6f59-48a6-8cb0-b70df817195e"
   },
   "outputs": [
    {
     "data": {
      "text/plain": [
       "[780.0, 608.0, 190.0, 190.0, 190.0, 188.0, 186.0, 186.0, 186.0, 185.0]"
      ]
     },
     "execution_count": 30,
     "metadata": {},
     "output_type": "execute_result"
    }
   ],
   "source": [
    "sorted(final_df['Height'], reverse=True)[:10]"
   ]
  },
  {
   "cell_type": "markdown",
   "metadata": {
    "id": "NdnzTYov1JdE"
   },
   "source": [
    "The tallest person ever lived in the world was **272** cm (1940). His followers were **267** cm(1905) and **263.5** cm(1969). Replacing **780** and **608** with **180** and **108** cm respectively"
   ]
  },
  {
   "cell_type": "code",
   "execution_count": 31,
   "metadata": {
    "execution": {
     "iopub.execute_input": "2022-09-19T13:10:41.808110Z",
     "iopub.status.busy": "2022-09-19T13:10:41.807746Z",
     "iopub.status.idle": "2022-09-19T13:10:41.817083Z",
     "shell.execute_reply": "2022-09-19T13:10:41.815198Z",
     "shell.execute_reply.started": "2022-09-19T13:10:41.808075Z"
    },
    "id": "ELjee2jz1JdF"
   },
   "outputs": [],
   "source": [
    "final_df['Height']=final_df['Height'].replace(608,108)\n",
    "final_df['Height']=final_df['Height'].replace(780,180)"
   ]
  },
  {
   "cell_type": "code",
   "execution_count": 32,
   "metadata": {
    "colab": {
     "base_uri": "https://localhost:8080/"
    },
    "execution": {
     "iopub.execute_input": "2022-09-19T13:10:42.549968Z",
     "iopub.status.busy": "2022-09-19T13:10:42.549463Z",
     "iopub.status.idle": "2022-09-19T13:10:42.558638Z",
     "shell.execute_reply": "2022-09-19T13:10:42.556939Z",
     "shell.execute_reply.started": "2022-09-19T13:10:42.549934Z"
    },
    "id": "3OEvcVRc1JdH",
    "outputId": "b21be694-a1cd-48c1-9eb6-8314d2caa15a"
   },
   "outputs": [
    {
     "data": {
      "text/plain": [
       "[176.0, 124.0, 110.0, 106.0, 105.0, 105.0, 104.0, 104.0, 100.0, 98.0]"
      ]
     },
     "execution_count": 32,
     "metadata": {},
     "output_type": "execute_result"
    }
   ],
   "source": [
    "sorted(final_df['Weight'], reverse=True)[:10]"
   ]
  },
  {
   "cell_type": "markdown",
   "metadata": {
    "id": "Jr6MJ5Z51JdJ"
   },
   "source": [
    "**176 kgs** is a possible weight. so we'll keep them in the dataframe."
   ]
  },
  {
   "cell_type": "code",
   "execution_count": 33,
   "metadata": {
    "colab": {
     "base_uri": "https://localhost:8080/",
     "height": 266
    },
    "execution": {
     "iopub.execute_input": "2022-09-19T13:10:42.560781Z",
     "iopub.status.busy": "2022-09-19T13:10:42.560432Z",
     "iopub.status.idle": "2022-09-19T13:10:42.794708Z",
     "shell.execute_reply": "2022-09-19T13:10:42.793351Z",
     "shell.execute_reply.started": "2022-09-19T13:10:42.560750Z"
    },
    "id": "5xdaZN9P1JdM",
    "outputId": "69eb2473-da70-493c-f622-d670782f265e"
   },
   "outputs": [
    {
     "data": {
      "image/png": "[encoded data removed]",
      "text/plain": [
       "<Figure size 640x480 with 1 Axes>"
      ]
     },
     "metadata": {},
     "output_type": "display_data"
    }
   ],
   "source": [
    "sns.boxplot(data=final_df[[\"QRS_Dur\",\"P-R_Int\",\"Q-T_Int\",\"T_Int\",\"P_Int\"]]);"
   ]
  },
  {
   "cell_type": "markdown",
   "metadata": {
    "id": "rxS-LUGN1JdO"
   },
   "source": [
    "PR interval is the period, measured in milliseconds, that extends from the beginning of the P wave until the beginning of the QRS complex; it is normally between 120 and 200ms in duration. "
   ]
  },
  {
   "cell_type": "code",
   "execution_count": 34,
   "metadata": {
    "execution": {
     "iopub.execute_input": "2022-09-19T13:10:44.199874Z",
     "iopub.status.busy": "2022-09-19T13:10:44.199478Z",
     "iopub.status.idle": "2022-09-19T13:10:44.410631Z",
     "shell.execute_reply": "2022-09-19T13:10:44.409216Z",
     "shell.execute_reply.started": "2022-09-19T13:10:44.199844Z"
    }
   },
   "outputs": [
    {
     "data": {
      "image/png": "[encoded data removed]",
      "text/plain": [
       "<Figure size 640x480 with 1 Axes>"
      ]
     },
     "metadata": {},
     "output_type": "display_data"
    }
   ],
   "source": [
    "final_df['P-R_Int'].value_counts().sort_index().head().plot(kind='bar')\n",
    "plt.xlabel('P-R Interval Values')\n",
    "plt.ylabel('Count');"
   ]
  },
  {
   "cell_type": "code",
   "execution_count": 35,
   "metadata": {
    "execution": {
     "iopub.execute_input": "2022-09-19T13:10:44.413829Z",
     "iopub.status.busy": "2022-09-19T13:10:44.413336Z",
     "iopub.status.idle": "2022-09-19T13:10:44.686713Z",
     "shell.execute_reply": "2022-09-19T13:10:44.685196Z",
     "shell.execute_reply.started": "2022-09-19T13:10:44.413780Z"
    }
   },
   "outputs": [
    {
     "data": {
      "image/png": "[encoded data removed]",
      "text/plain": [
       "<Figure size 640x480 with 1 Axes>"
      ]
     },
     "metadata": {},
     "output_type": "display_data"
    }
   ],
   "source": [
    "final_df['P-R_Int'].value_counts().sort_index().tail().plot(kind='bar')\n",
    "plt.xlabel('P-R Interval Values')\n",
    "plt.ylabel('Count');"
   ]
  },
  {
   "cell_type": "markdown",
   "metadata": {},
   "source": [
    "PR Interval data is including outliers 0(x18). we'll keep them"
   ]
  },
  {
   "cell_type": "code",
   "execution_count": 36,
   "metadata": {
    "execution": {
     "iopub.execute_input": "2022-09-19T13:10:44.689455Z",
     "iopub.status.busy": "2022-09-19T13:10:44.688946Z",
     "iopub.status.idle": "2022-09-19T13:10:44.962905Z",
     "shell.execute_reply": "2022-09-19T13:10:44.961660Z",
     "shell.execute_reply.started": "2022-09-19T13:10:44.689409Z"
    }
   },
   "outputs": [
    {
     "data": {
      "image/png": "[encoded data removed]",
      "text/plain": [
       "<Figure size 640x480 with 1 Axes>"
      ]
     },
     "metadata": {},
     "output_type": "display_data"
    }
   ],
   "source": [
    "sns.boxplot(data=final_df[[\"QRS\",\"T\",\"P\",\"J\",\"Heart_Rate\"]]);"
   ]
  },
  {
   "cell_type": "code",
   "execution_count": 37,
   "metadata": {
    "execution": {
     "iopub.execute_input": "2022-09-19T13:10:44.964550Z",
     "iopub.status.busy": "2022-09-19T13:10:44.964180Z",
     "iopub.status.idle": "2022-09-19T13:10:45.207585Z",
     "shell.execute_reply": "2022-09-19T13:10:45.206317Z",
     "shell.execute_reply.started": "2022-09-19T13:10:44.964518Z"
    }
   },
   "outputs": [
    {
     "data": {
      "image/png": "[encoded data removed]",
      "text/plain": [
       "<Figure size 640x480 with 1 Axes>"
      ]
     },
     "metadata": {},
     "output_type": "display_data"
    }
   ],
   "source": [
    "sns.boxplot(data=final_df[[\"R'_Wave\",\"S'_Wave\",\"Int_Def\",\"Rag_R_Nom\"]]);"
   ]
  },
  {
   "cell_type": "markdown",
   "metadata": {
    "id": "ivaH5gV21Jdh"
   },
   "source": [
    "*S*'Wave has 0's which is not a NaN. So, we can't assume it as including outliers."
   ]
  },
  {
   "cell_type": "code",
   "execution_count": 38,
   "metadata": {
    "colab": {
     "base_uri": "https://localhost:8080/"
    },
    "execution": {
     "iopub.execute_input": "2022-09-19T13:10:45.754637Z",
     "iopub.status.busy": "2022-09-19T13:10:45.754209Z",
     "iopub.status.idle": "2022-09-19T13:10:45.764495Z",
     "shell.execute_reply": "2022-09-19T13:10:45.763293Z",
     "shell.execute_reply.started": "2022-09-19T13:10:45.754603Z"
    },
    "id": "fy9ZTcx41Jdj",
    "outputId": "3bf28373-f994-4a6d-805e-24ceee2dce26"
   },
   "outputs": [
    {
     "data": {
      "text/plain": [
       "0.0    452\n",
       "Name: S'_Wave, dtype: int64"
      ]
     },
     "execution_count": 38,
     "metadata": {},
     "output_type": "execute_result"
    }
   ],
   "source": [
    "final_df[\"S'_Wave\"].value_counts().sort_index(ascending=False)"
   ]
  },
  {
   "cell_type": "code",
   "execution_count": 39,
   "metadata": {
    "colab": {
     "base_uri": "https://localhost:8080/"
    },
    "execution": {
     "iopub.execute_input": "2022-09-19T13:10:45.767462Z",
     "iopub.status.busy": "2022-09-19T13:10:45.766978Z",
     "iopub.status.idle": "2022-09-19T13:10:45.780797Z",
     "shell.execute_reply": "2022-09-19T13:10:45.779560Z",
     "shell.execute_reply.started": "2022-09-19T13:10:45.767418Z"
    },
    "id": "EPTic09i1Jd_",
    "outputId": "187e30ce-558c-42d3-f8c9-10bc7b466e60"
   },
   "outputs": [
    {
     "data": {
      "text/plain": [
       "216.0     1\n",
       "112.0     1\n",
       "84.0      1\n",
       "72.0      1\n",
       "68.0      1\n",
       "64.0      1\n",
       "48.0      6\n",
       "44.0      6\n",
       "40.0     13\n",
       "36.0     36\n",
       "32.0     63\n",
       "28.0     81\n",
       "24.0     88\n",
       "20.0     57\n",
       "16.0     13\n",
       "12.0      4\n",
       "0.0      79\n",
       "Name: V101, dtype: int64"
      ]
     },
     "execution_count": 39,
     "metadata": {},
     "output_type": "execute_result"
    }
   ],
   "source": [
    "final_df[\"V101\"].value_counts().sort_index(ascending=False)"
   ]
  },
  {
   "cell_type": "markdown",
   "metadata": {
    "id": "I0Itx4mM1JeC"
   },
   "source": [
    "**V101** has an outlier, but when we look at other sets (V201, V301, V501) we can see that there's an outlier similarly. Since our data is heavily biased, I can't say these outliers should be dropped. \n",
    "\n",
    "For example, when we look at our data, we can see that class # 8 (Supraventricular Premature Contraction) **has only 2 instances**. Or # 3 (Ventricular Premature Contraction (PVC)) has only 3. The outliers appearing with our plots might belong to these instances and needs to be kept."
   ]
  },
  {
   "cell_type": "code",
   "execution_count": 40,
   "metadata": {
    "colab": {
     "base_uri": "https://localhost:8080/",
     "height": 337
    },
    "execution": {
     "iopub.execute_input": "2022-09-19T13:10:50.886990Z",
     "iopub.status.busy": "2022-09-19T13:10:50.886556Z",
     "iopub.status.idle": "2022-09-19T13:10:50.903371Z",
     "shell.execute_reply": "2022-09-19T13:10:50.900886Z",
     "shell.execute_reply.started": "2022-09-19T13:10:50.886957Z"
    },
    "id": "qlbDJN1w1JeC",
    "outputId": "8c5360cd-9402-4c50-cdc0-6ce8512dbaef"
   },
   "outputs": [
    {
     "data": {
      "text/plain": [
       "216.0     1\n",
       "136.0     1\n",
       "84.0      1\n",
       "72.0      1\n",
       "60.0      5\n",
       "56.0      4\n",
       "52.0     12\n",
       "48.0     19\n",
       "44.0     53\n",
       "40.0     68\n",
       "36.0     74\n",
       "32.0     69\n",
       "28.0     48\n",
       "24.0     39\n",
       "20.0     15\n",
       "16.0      6\n",
       "12.0      2\n",
       "0.0      34\n",
       "Name: V201, dtype: int64"
      ]
     },
     "execution_count": 40,
     "metadata": {},
     "output_type": "execute_result"
    }
   ],
   "source": [
    "final_df[\"V201\"].value_counts().sort_index(ascending=False)"
   ]
  },
  {
   "cell_type": "code",
   "execution_count": 41,
   "metadata": {
    "colab": {
     "base_uri": "https://localhost:8080/",
     "height": 337
    },
    "execution": {
     "iopub.execute_input": "2022-09-19T13:10:52.009473Z",
     "iopub.status.busy": "2022-09-19T13:10:52.009053Z",
     "iopub.status.idle": "2022-09-19T13:10:52.022039Z",
     "shell.execute_reply": "2022-09-19T13:10:52.020544Z",
     "shell.execute_reply.started": "2022-09-19T13:10:52.009440Z"
    },
    "id": "_abC3Bmk1JeD",
    "outputId": "7f28546e-448e-42a0-dec3-560c2c2288b5"
   },
   "outputs": [
    {
     "data": {
      "text/plain": [
       "132.0     1\n",
       "88.0      2\n",
       "76.0      2\n",
       "72.0      1\n",
       "68.0      2\n",
       "64.0      3\n",
       "60.0     16\n",
       "56.0     26\n",
       "52.0     57\n",
       "48.0     68\n",
       "44.0     76\n",
       "40.0     74\n",
       "36.0     49\n",
       "32.0     32\n",
       "28.0     13\n",
       "24.0      4\n",
       "20.0      6\n",
       "16.0      1\n",
       "0.0      19\n",
       "Name: V301, dtype: int64"
      ]
     },
     "execution_count": 41,
     "metadata": {},
     "output_type": "execute_result"
    }
   ],
   "source": [
    "final_df[\"V301\"].value_counts().sort_index(ascending=False)"
   ]
  },
  {
   "cell_type": "code",
   "execution_count": 42,
   "metadata": {
    "colab": {
     "base_uri": "https://localhost:8080/",
     "height": 337
    },
    "execution": {
     "iopub.execute_input": "2022-09-19T13:10:52.024726Z",
     "iopub.status.busy": "2022-09-19T13:10:52.024321Z",
     "iopub.status.idle": "2022-09-19T13:10:52.038975Z",
     "shell.execute_reply": "2022-09-19T13:10:52.037116Z",
     "shell.execute_reply.started": "2022-09-19T13:10:52.024692Z"
    },
    "id": "YtmGtJa-1JeG",
    "outputId": "0c01f2f5-47af-4d25-b29a-507c4f98dbc7"
   },
   "outputs": [
    {
     "data": {
      "text/plain": [
       "136.0      1\n",
       "120.0      2\n",
       "116.0      1\n",
       "108.0      1\n",
       "96.0       1\n",
       "92.0       1\n",
       "84.0       1\n",
       "76.0       2\n",
       "72.0       3\n",
       "68.0       4\n",
       "64.0       5\n",
       "60.0       9\n",
       "56.0      22\n",
       "52.0      67\n",
       "48.0     105\n",
       "44.0     104\n",
       "40.0      73\n",
       "36.0      29\n",
       "32.0      12\n",
       "28.0       3\n",
       "24.0       2\n",
       "20.0       1\n",
       "0.0        3\n",
       "Name: V501, dtype: int64"
      ]
     },
     "execution_count": 42,
     "metadata": {},
     "output_type": "execute_result"
    }
   ],
   "source": [
    "final_df[\"V501\"].value_counts().sort_index(ascending=False)"
   ]
  },
  {
   "cell_type": "markdown",
   "metadata": {
    "id": "l8stuBYb1JeT"
   },
   "source": [
    "Now we can see outlier within the last two attributes of each series(DIII188, DIII189, AVR198, AVR199, AVL208, AVL209, AVF218, AVF219, V2238, V2239, V3248, V3249,V4258, V4259,V5268, V5269, V6278, V6279). Similiarly assuming that these outliers might belong to the classes with few instances."
   ]
  },
  {
   "cell_type": "code",
   "execution_count": 43,
   "metadata": {
    "colab": {
     "base_uri": "https://localhost:8080/",
     "height": 337
    },
    "execution": {
     "iopub.execute_input": "2022-09-19T13:10:52.053879Z",
     "iopub.status.busy": "2022-09-19T13:10:52.053467Z",
     "iopub.status.idle": "2022-09-19T13:10:52.444443Z",
     "shell.execute_reply": "2022-09-19T13:10:52.443552Z",
     "shell.execute_reply.started": "2022-09-19T13:10:52.053848Z"
    },
    "id": "Q4cJ8f4f1JeU",
    "outputId": "6b1cb28c-9d92-4518-c05a-f948f60f2089"
   },
   "outputs": [
    {
     "data": {
      "image/png": "[encoded data removed]",
      "text/plain": [
       "<Figure size 1170x527 with 1 Axes>"
      ]
     },
     "metadata": {},
     "output_type": "display_data"
    }
   ],
   "source": [
    "sns.set(rc={'figure.figsize':(11.7,5.27)})\n",
    "sns.boxplot(data=final_df[[\"AVR190\",\"AVR191\",\"AVR192\",\"AVR193\",\"AVR194\",\"AVR195\",\"AVR196\",\"AVR197\",\"AVR198\",\"AVR199\"]]);"
   ]
  },
  {
   "cell_type": "code",
   "execution_count": 44,
   "metadata": {
    "colab": {
     "base_uri": "https://localhost:8080/",
     "height": 337
    },
    "execution": {
     "iopub.execute_input": "2022-09-19T13:10:52.446852Z",
     "iopub.status.busy": "2022-09-19T13:10:52.445894Z",
     "iopub.status.idle": "2022-09-19T13:10:52.857667Z",
     "shell.execute_reply": "2022-09-19T13:10:52.856413Z",
     "shell.execute_reply.started": "2022-09-19T13:10:52.446803Z"
    },
    "id": "n9GSIdo11JeW",
    "outputId": "2401bc8d-0d75-4e3e-a338-cf7c17021f74"
   },
   "outputs": [
    {
     "data": {
      "image/png": "[encoded data removed]",
      "text/plain": [
       "<Figure size 1170x527 with 1 Axes>"
      ]
     },
     "metadata": {},
     "output_type": "display_data"
    }
   ],
   "source": [
    "sns.set(rc={'figure.figsize':(11.7,5.27)})\n",
    "sns.boxplot(data=final_df[[\"AVL200\",\"AVL201\",\"AVL202\",\"AVL203\",\"AVL204\",\"AVL205\",\"AVL206\",\"AVL207\",\"AVL208\",\"AVL209\"]]);"
   ]
  },
  {
   "cell_type": "code",
   "execution_count": 45,
   "metadata": {
    "colab": {
     "base_uri": "https://localhost:8080/",
     "height": 337
    },
    "execution": {
     "iopub.execute_input": "2022-09-19T13:10:52.863974Z",
     "iopub.status.busy": "2022-09-19T13:10:52.859833Z",
     "iopub.status.idle": "2022-09-19T13:10:53.214034Z",
     "shell.execute_reply": "2022-09-19T13:10:53.212322Z",
     "shell.execute_reply.started": "2022-09-19T13:10:52.863869Z"
    },
    "id": "N9d4I_9F1JeX",
    "outputId": "f3490c31-7bf8-4854-dc7e-0ce2c2342b6c"
   },
   "outputs": [
    {
     "data": {
      "image/png": "[encoded data removed]",
      "text/plain": [
       "<Figure size 1170x527 with 1 Axes>"
      ]
     },
     "metadata": {},
     "output_type": "display_data"
    }
   ],
   "source": [
    "sns.set(rc={'figure.figsize':(11.7,5.27)})\n",
    "sns.boxplot(data=final_df[[\"AVF210\",\"AVF211\",\"AVF212\",\"AVF213\",\"AVF214\",\"AVF215\",\"AVF216\",\"AVF217\",\"AVF218\",\"AVF219\"]]);"
   ]
  },
  {
   "cell_type": "code",
   "execution_count": 46,
   "metadata": {
    "colab": {
     "base_uri": "https://localhost:8080/"
    },
    "execution": {
     "iopub.execute_input": "2022-09-19T13:10:53.216343Z",
     "iopub.status.busy": "2022-09-19T13:10:53.215841Z",
     "iopub.status.idle": "2022-09-19T13:10:53.320864Z",
     "shell.execute_reply": "2022-09-19T13:10:53.317670Z",
     "shell.execute_reply.started": "2022-09-19T13:10:53.216297Z"
    },
    "id": "6-cDAvG-1JfT",
    "outputId": "effd5687-919d-4dcd-a157-8c4611e099ce"
   },
   "outputs": [
    {
     "data": {
      "text/plain": [
       "array([-9.23812218e-02, -1.78080037e-01, -3.46671442e-02, -9.01507390e-02,\n",
       "        3.23878728e-01, -9.99540161e-02,  2.83049762e-02,  9.76253981e-02,\n",
       "       -1.22002504e-01,  1.95854526e-02, -1.68648870e-04,  1.90644217e-01,\n",
       "       -3.08114850e-02,  3.33672764e-02,  3.96491896e-03,  4.26738126e-02,\n",
       "        1.95198200e-01,  6.39992472e-02,             nan,  4.27635327e-02,\n",
       "       -2.01150248e-02,  7.67517615e-03, -3.55694451e-02,  3.20969797e-02,\n",
       "        3.20969797e-02,  8.30559434e-02, -3.61168680e-03,  4.83674292e-02,\n",
       "        1.83082712e-01, -1.05049431e-02,  6.65428889e-02,  6.77662940e-02,\n",
       "        4.17574601e-02,  7.98435069e-02, -2.01150248e-02,  1.69531020e-02,\n",
       "       -3.60504699e-02, -6.66334979e-04, -2.36687153e-02,  1.16515578e-01,\n",
       "        8.16735582e-02,  1.44307782e-02, -3.20137575e-02,  8.34076694e-02,\n",
       "       -3.08114850e-02,  5.14341059e-02, -3.08114850e-02, -8.40208668e-02,\n",
       "       -1.15446555e-02, -5.76271452e-03,  2.10381327e-02,  1.73243101e-01,\n",
       "        2.54790200e-03,  1.09423863e-01, -3.08114850e-02,  1.41103081e-01,\n",
       "       -6.43991926e-02,  3.20969797e-02, -3.60504699e-02, -5.76271452e-03,\n",
       "       -5.76271452e-03,  4.01270853e-02, -9.51325536e-03,  8.62805101e-02,\n",
       "        1.27209954e-01,  6.16984103e-02,             nan,  1.52533990e-01,\n",
       "                   nan,  7.60606402e-02, -3.08114850e-02, -9.41856455e-03,\n",
       "        2.21830437e-03,  1.19743559e-02,  6.94395981e-02,  3.00259257e-02,\n",
       "        1.43283685e-01,  5.76478469e-03,  9.01134869e-02,  1.07405670e-01,\n",
       "        3.20969797e-02,  1.02461952e-03,             nan, -3.08114850e-02,\n",
       "       -3.08114850e-02,  5.47601969e-02,  6.15957389e-02,  1.20725739e-01,\n",
       "       -1.18167887e-01,  3.68875604e-01, -2.41468439e-02,  3.13982499e-01,\n",
       "        8.40764742e-03,  1.74345647e-01,  1.32965490e-02,  1.32965490e-02,\n",
       "       -2.59595293e-02,  3.82498115e-02,  7.54212108e-02,  4.02835784e-02,\n",
       "       -1.04802605e-02,  2.82523391e-01,  9.85924790e-02,  1.07254510e-01,\n",
       "       -2.80177282e-03,  1.04520372e-01,  1.21710657e-01,  1.15252587e-01,\n",
       "       -2.96323091e-02, -1.68648870e-04,  6.60135274e-02, -2.59005587e-02,\n",
       "        1.40502408e-01,  1.16503625e-01,  9.08650874e-02, -7.10618888e-04,\n",
       "       -3.15900299e-02,  4.72408574e-02,  1.32194508e-01,  9.37881579e-02,\n",
       "       -3.49177539e-02, -2.59595293e-02,  4.11421737e-02,  2.08403220e-04,\n",
       "        1.70669615e-01,  1.15369158e-02,  4.93696439e-02, -7.22179337e-03,\n",
       "       -1.33346534e-02,  1.04145773e-01,             nan,             nan,\n",
       "       -2.09065922e-02,  5.70033179e-02,  1.15436522e-01,  7.01651905e-02,\n",
       "        1.01877932e-01,  4.21390928e-02,             nan,  1.03193252e-01,\n",
       "                   nan,  9.50584501e-02,             nan, -3.08114850e-02,\n",
       "                   nan, -2.87284109e-02,  9.75462789e-02,  6.36924587e-02,\n",
       "        1.30055964e-01, -3.65958306e-02,             nan,  1.41505551e-01,\n",
       "       -3.08114850e-02,  1.27789569e-03, -1.33346534e-02,             nan,\n",
       "                   nan,  1.72850920e-02, -2.00524860e-02, -9.03327100e-03,\n",
       "       -1.35180130e-01, -1.97554501e-01,  1.07901579e-01,             nan,\n",
       "       -1.05921951e-01, -6.72553225e-02, -1.02058765e-01, -1.71762707e-01,\n",
       "       -2.54345726e-03, -3.78137539e-02,  4.89226443e-03, -1.58536214e-01,\n",
       "       -4.42099728e-03, -5.86568608e-02, -6.83466737e-02,  5.64189125e-03,\n",
       "       -6.37805443e-02, -3.51255618e-02, -3.59550977e-03,  1.43428758e-02,\n",
       "        1.30359938e-01, -4.20653173e-02,  3.90143500e-03,  2.50605654e-02,\n",
       "       -8.74656504e-03,  6.89710671e-02,  5.00846798e-02,  1.04976063e-01,\n",
       "        4.85126664e-02,  7.66276154e-02,  1.65693257e-01, -3.06138176e-03,\n",
       "        1.22928173e-01,  3.08114850e-02,  9.31930303e-02,  3.77147563e-02,\n",
       "        1.14137877e-01,  1.25873240e-01, -7.81911502e-03, -1.38023671e-02,\n",
       "       -5.68445025e-02, -1.42730678e-01,  6.00241993e-02,             nan,\n",
       "       -2.87341746e-02, -8.49412178e-02, -6.51453141e-02, -1.34656794e-01,\n",
       "       -4.77386153e-02, -4.89496873e-02,  7.06530907e-02, -9.93289932e-02,\n",
       "        1.35415997e-02, -9.35100948e-02, -4.59119818e-02,  3.37566701e-02,\n",
       "       -3.26766118e-02, -5.52098645e-04,  6.94466318e-02, -2.56278593e-02,\n",
       "        1.41273961e-01,  9.78392462e-03,  2.35488426e-01,  2.49754659e-02,\n",
       "       -4.22246326e-02,  2.29694987e-02,  6.83389267e-02,  1.28489868e-01,\n",
       "        1.19809260e-01, -9.27914558e-02,  2.66138922e-02, -4.23710548e-02,\n",
       "        2.18811416e-01, -9.39122715e-02, -3.79381660e-02, -2.13866537e-02,\n",
       "       -1.08902188e-01, -9.45432486e-02,  1.51781561e-01, -2.90002767e-02,\n",
       "        6.01905939e-02, -1.89458038e-01,  9.55972551e-02, -7.10324386e-02,\n",
       "        4.24733004e-02,  8.72420403e-02, -1.59611689e-01, -4.46742653e-02,\n",
       "        1.24822829e-01, -7.40099741e-03,  9.53309571e-02, -1.50609932e-01,\n",
       "        3.04286463e-02, -4.73402930e-02, -8.68730068e-02,  1.08922991e-01,\n",
       "       -8.33957097e-02,  3.41381321e-02,  2.04870406e-02, -1.62153153e-01,\n",
       "        7.96689001e-02, -6.84101110e-02,  5.38080797e-02,             nan,\n",
       "       -8.11663795e-02,  6.21744575e-02, -1.05802701e-02,  5.26170978e-02,\n",
       "       -6.21293028e-02, -1.64320758e-01,  3.61878403e-02, -7.15557917e-02,\n",
       "       -3.69920743e-02,             nan, -8.64268780e-02, -3.07975937e-02,\n",
       "        3.47646535e-03, -9.27527477e-03])"
      ]
     },
     "execution_count": 46,
     "metadata": {},
     "output_type": "execute_result"
    }
   ],
   "source": [
    "#finding correlation with target feature using pearson correlation\n",
    "\n",
    "target=new_df[\"class\"]\n",
    "pearsoncorr = final_df.corrwith(other = target,method='pearson')\n",
    "pearsoncorr.values"
   ]
  },
  {
   "cell_type": "markdown",
   "metadata": {
    "colab": {
     "base_uri": "https://localhost:8080/"
    },
    "id": "t0SFO1AU_dvz",
    "outputId": "7f60452a-7103-4495-c24c-4350396f28b4"
   },
   "source": [
    "## Feature Scaling and Splitting dataset\n",
    "<br />\n",
    "We will be using 80% of our dataset for training purpose and 20% for testing purpose."
   ]
  },
  {
   "cell_type": "code",
   "execution_count": 47,
   "metadata": {
    "execution": {
     "iopub.execute_input": "2022-09-19T13:10:53.324053Z",
     "iopub.status.busy": "2022-09-19T13:10:53.323671Z",
     "iopub.status.idle": "2022-09-19T13:10:53.333362Z",
     "shell.execute_reply": "2022-09-19T13:10:53.331929Z",
     "shell.execute_reply.started": "2022-09-19T13:10:53.324023Z"
    }
   },
   "outputs": [],
   "source": [
    "from sklearn.model_selection import train_test_split\n",
    "X_train, X_test, y_train, y_test = train_test_split(final_df, target ,test_size=0.2, random_state=1)"
   ]
  },
  {
   "cell_type": "code",
   "execution_count": 48,
   "metadata": {
    "execution": {
     "iopub.execute_input": "2022-09-19T13:10:53.335214Z",
     "iopub.status.busy": "2022-09-19T13:10:53.334786Z",
     "iopub.status.idle": "2022-09-19T13:10:53.359386Z",
     "shell.execute_reply": "2022-09-19T13:10:53.357970Z",
     "shell.execute_reply.started": "2022-09-19T13:10:53.335178Z"
    }
   },
   "outputs": [],
   "source": [
    "from sklearn.preprocessing import StandardScaler\n",
    "scaler = StandardScaler()\n",
    "\n",
    "scaler.fit(X_train)\n",
    "X_train = scaler.transform(X_train)\n",
    "X_test = scaler.transform(X_test)"
   ]
  },
  {
   "cell_type": "code",
   "execution_count": 49,
   "metadata": {
    "execution": {
     "iopub.execute_input": "2022-09-19T13:10:53.360761Z",
     "iopub.status.busy": "2022-09-19T13:10:53.360436Z",
     "iopub.status.idle": "2022-09-19T13:10:53.366454Z",
     "shell.execute_reply": "2022-09-19T13:10:53.365113Z",
     "shell.execute_reply.started": "2022-09-19T13:10:53.360733Z"
    }
   },
   "outputs": [],
   "source": [
    "import warnings\n",
    "warnings.filterwarnings('ignore')"
   ]
  },
  {
   "cell_type": "markdown",
   "metadata": {},
   "source": [
    "## Evaluation strategy\n",
    "\n",
    "\n",
    "As the dependent variable is a categorical variable we will be using classification models. The best evaluation strategy for classification models is comparing the precision and recall. Thinking about the classification evaluation metrics, the importance of our models' precitions (we can't accept a result having the probability of saying to a healthy person that you have Cardiac Arrhythmia (FN)).\n",
    "\n",
    "We definitely will focus on Sensitivity (the percentage of sick people who are correctly identified as having the condition) not Specificity (percentage of healthy people who are correctly identified as not having the condition)."
   ]
  },
  {
   "cell_type": "code",
   "execution_count": 50,
   "metadata": {
    "execution": {
     "iopub.execute_input": "2022-09-19T13:10:53.368512Z",
     "iopub.status.busy": "2022-09-19T13:10:53.367805Z",
     "iopub.status.idle": "2022-09-19T13:10:53.378113Z",
     "shell.execute_reply": "2022-09-19T13:10:53.376530Z",
     "shell.execute_reply.started": "2022-09-19T13:10:53.368455Z"
    }
   },
   "outputs": [],
   "source": [
    "# importing evaluation metrices.\n",
    "\n",
    "from sklearn.metrics import r2_score,mean_squared_error,accuracy_score,recall_score,precision_score,confusion_matrix,classification_report\n",
    "from scikitplot.metrics import plot_confusion_matrix,plot_roc"
   ]
  },
  {
   "cell_type": "markdown",
   "metadata": {},
   "source": [
    "# **3. Modeling**"
   ]
  },
  {
   "cell_type": "code",
   "execution_count": 51,
   "metadata": {
    "execution": {
     "iopub.execute_input": "2022-09-19T13:10:53.380195Z",
     "iopub.status.busy": "2022-09-19T13:10:53.379712Z",
     "iopub.status.idle": "2022-09-19T13:10:53.396749Z",
     "shell.execute_reply": "2022-09-19T13:10:53.395189Z",
     "shell.execute_reply.started": "2022-09-19T13:10:53.380161Z"
    }
   },
   "outputs": [],
   "source": [
    "# will store result of each model.\n",
    "\n",
    "result = pd.DataFrame(columns=['Model','Train Accuracy','Test Accuracy'])"
   ]
  },
  {
   "cell_type": "markdown",
   "metadata": {},
   "source": [
    "# KNN Classifier"
   ]
  },
  {
   "cell_type": "code",
   "execution_count": 52,
   "metadata": {},
   "outputs": [],
   "source": [
    "from sklearn.neighbors import KNeighborsClassifier\n",
    "knnclassifier = KNeighborsClassifier()\n",
    "knnclassifier.fit(X_train, y_train)\n",
    "y_pred = knnclassifier.predict(X_test)"
   ]
  },
  {
   "cell_type": "code",
   "execution_count": 53,
   "metadata": {},
   "outputs": [],
   "source": [
    "knn_train_accuracy = accuracy_score(y_train, knnclassifier.predict(X_train))\n",
    "knn_test_accuracy = accuracy_score(y_test, knnclassifier.predict(X_test))\n",
    "knn_train_recall = recall_score(y_train, knnclassifier.predict(X_train),average=\"weighted\")\n",
    "knn_test_recall = recall_score(y_test, knnclassifier.predict(X_test),average=\"weighted\")"
   ]
  },
  {
   "cell_type": "code",
   "execution_count": 54,
   "metadata": {},
   "outputs": [
    {
     "name": "stdout",
     "output_type": "stream",
     "text": [
      "Train Recall score: 0.6481994459833795\n",
      "Test Recall score: 0.6483516483516484\n"
     ]
    },
    {
     "data": {
      "text/plain": [
       "array([[52,  0,  0,  0,  0,  0,  0,  0,  0,  0,  0],\n",
       "       [ 7,  1,  0,  0,  0,  0,  0,  0,  0,  0,  0],\n",
       "       [ 2,  0,  2,  0,  0,  0,  0,  0,  0,  0,  0],\n",
       "       [ 0,  0,  0,  1,  0,  0,  0,  0,  0,  0,  0],\n",
       "       [ 2,  0,  0,  0,  0,  0,  0,  0,  0,  0,  0],\n",
       "       [ 3,  0,  0,  0,  0,  0,  0,  0,  0,  0,  0],\n",
       "       [ 1,  0,  0,  0,  0,  0,  0,  0,  0,  0,  0],\n",
       "       [ 0,  0,  0,  0,  0,  0,  0,  1,  0,  0,  1],\n",
       "       [ 8,  0,  0,  0,  0,  0,  0,  0,  2,  0,  0],\n",
       "       [ 2,  0,  0,  0,  0,  0,  0,  0,  0,  0,  0],\n",
       "       [ 6,  0,  0,  0,  0,  0,  0,  0,  0,  0,  0]], dtype=int64)"
      ]
     },
     "execution_count": 54,
     "metadata": {},
     "output_type": "execute_result"
    }
   ],
   "source": [
    "print('Train Recall score: {}'\n",
    "      .format(knn_train_recall))\n",
    "print('Test Recall score: {}'\n",
    "      .format(knn_test_recall))\n",
    "confusion_matrix(y_test, y_pred)"
   ]
  },
  {
   "cell_type": "code",
   "execution_count": 55,
   "metadata": {},
   "outputs": [
    {
     "data": {
      "text/html": [
       "<div>\n",
       "<style scoped>\n",
       "    .dataframe tbody tr th:only-of-type {\n",
       "        vertical-align: middle;\n",
       "    }\n",
       "\n",
       "    .dataframe tbody tr th {\n",
       "        vertical-align: top;\n",
       "    }\n",
       "\n",
       "    .dataframe thead th {\n",
       "        text-align: right;\n",
       "    }\n",
       "</style>\n",
       "<table border=\"1\" class=\"dataframe\">\n",
       "  <thead>\n",
       "    <tr style=\"text-align: right;\">\n",
       "      <th></th>\n",
       "      <th>Model</th>\n",
       "      <th>Train Accuracy</th>\n",
       "      <th>Test Accuracy</th>\n",
       "    </tr>\n",
       "  </thead>\n",
       "  <tbody>\n",
       "    <tr>\n",
       "      <th>0</th>\n",
       "      <td>KNN Classifier</td>\n",
       "      <td>0.648199</td>\n",
       "      <td>0.648352</td>\n",
       "    </tr>\n",
       "  </tbody>\n",
       "</table>\n",
       "</div>"
      ],
      "text/plain": [
       "            Model  Train Accuracy  Test Accuracy\n",
       "0  KNN Classifier        0.648199       0.648352"
      ]
     },
     "execution_count": 55,
     "metadata": {},
     "output_type": "execute_result"
    }
   ],
   "source": [
    "result = result.append(pd.Series({'Model':'KNN Classifier','Train Accuracy':knn_train_accuracy,'Test Accuracy':knn_test_accuracy}),ignore_index=True)\n",
    "result"
   ]
  },
  {
   "cell_type": "markdown",
   "metadata": {},
   "source": [
    "# Logistic regression"
   ]
  },
  {
   "cell_type": "code",
   "execution_count": 56,
   "metadata": {},
   "outputs": [],
   "source": [
    "from sklearn.linear_model import LogisticRegression\n",
    "lgclassifier = LogisticRegression(solver = 'saga',random_state = 0) \n",
    "lgclassifier.fit(X_train, y_train) \n",
    "y_pred = lgclassifier.predict(X_test)"
   ]
  },
  {
   "cell_type": "code",
   "execution_count": 57,
   "metadata": {},
   "outputs": [],
   "source": [
    "lg_train_recall = recall_score(y_train, lgclassifier.predict(X_train),average='weighted')\n",
    "lg_test_recall = recall_score(y_test, lgclassifier.predict(X_test),average='weighted')\n",
    "lg_train_accuracy = accuracy_score(y_train, lgclassifier.predict(X_train))\n",
    "lg_test_accuracy = accuracy_score(y_test, lgclassifier.predict(X_test))\n"
   ]
  },
  {
   "cell_type": "code",
   "execution_count": 58,
   "metadata": {},
   "outputs": [
    {
     "name": "stdout",
     "output_type": "stream",
     "text": [
      "Train Recall score: 0.9390581717451524\n",
      "Test Recall score: 0.7802197802197802\n"
     ]
    },
    {
     "data": {
      "text/plain": [
       "array([[46,  2,  0,  0,  0,  2,  0,  0,  0,  0,  2],\n",
       "       [ 2,  6,  0,  0,  0,  0,  0,  0,  0,  0,  0],\n",
       "       [ 0,  0,  4,  0,  0,  0,  0,  0,  0,  0,  0],\n",
       "       [ 0,  0,  0,  1,  0,  0,  0,  0,  0,  0,  0],\n",
       "       [ 1,  0,  0,  0,  1,  0,  0,  0,  0,  0,  0],\n",
       "       [ 1,  1,  0,  0,  0,  1,  0,  0,  0,  0,  0],\n",
       "       [ 1,  0,  0,  0,  0,  0,  0,  0,  0,  0,  0],\n",
       "       [ 0,  0,  0,  0,  0,  0,  0,  2,  0,  0,  0],\n",
       "       [ 1,  1,  0,  0,  0,  0,  0,  0,  8,  0,  0],\n",
       "       [ 0,  0,  0,  0,  0,  0,  0,  0,  0,  1,  1],\n",
       "       [ 3,  1,  1,  0,  0,  0,  0,  0,  0,  0,  1]], dtype=int64)"
      ]
     },
     "execution_count": 58,
     "metadata": {},
     "output_type": "execute_result"
    }
   ],
   "source": [
    "print('Train Recall score: {}'\n",
    "      .format(lg_train_recall))\n",
    "print('Test Recall score: {}'\n",
    "      .format(lg_test_recall))\n",
    "confusion_matrix(y_test, y_pred)"
   ]
  },
  {
   "cell_type": "code",
   "execution_count": 59,
   "metadata": {},
   "outputs": [
    {
     "data": {
      "text/html": [
       "<div>\n",
       "<style scoped>\n",
       "    .dataframe tbody tr th:only-of-type {\n",
       "        vertical-align: middle;\n",
       "    }\n",
       "\n",
       "    .dataframe tbody tr th {\n",
       "        vertical-align: top;\n",
       "    }\n",
       "\n",
       "    .dataframe thead th {\n",
       "        text-align: right;\n",
       "    }\n",
       "</style>\n",
       "<table border=\"1\" class=\"dataframe\">\n",
       "  <thead>\n",
       "    <tr style=\"text-align: right;\">\n",
       "      <th></th>\n",
       "      <th>Model</th>\n",
       "      <th>Train Accuracy</th>\n",
       "      <th>Test Accuracy</th>\n",
       "    </tr>\n",
       "  </thead>\n",
       "  <tbody>\n",
       "    <tr>\n",
       "      <th>0</th>\n",
       "      <td>KNN Classifier</td>\n",
       "      <td>0.648199</td>\n",
       "      <td>0.648352</td>\n",
       "    </tr>\n",
       "    <tr>\n",
       "      <th>1</th>\n",
       "      <td>Logestic Regression</td>\n",
       "      <td>0.939058</td>\n",
       "      <td>0.780220</td>\n",
       "    </tr>\n",
       "  </tbody>\n",
       "</table>\n",
       "</div>"
      ],
      "text/plain": [
       "                 Model  Train Accuracy  Test Accuracy\n",
       "0       KNN Classifier        0.648199       0.648352\n",
       "1  Logestic Regression        0.939058       0.780220"
      ]
     },
     "execution_count": 59,
     "metadata": {},
     "output_type": "execute_result"
    }
   ],
   "source": [
    "result = result.append(pd.Series({'Model':'Logestic Regression','Train Accuracy':lg_train_accuracy,'Test Accuracy':lg_test_accuracy}),ignore_index=True )\n",
    "result"
   ]
  },
  {
   "cell_type": "markdown",
   "metadata": {},
   "source": [
    "# Linear SVM"
   ]
  },
  {
   "cell_type": "code",
   "execution_count": 60,
   "metadata": {},
   "outputs": [],
   "source": [
    "from sklearn.svm import LinearSVC \n",
    "lsvclassifier = LinearSVC(C=0.01)\n",
    "lsvclassifier.fit(X_train, y_train) \n",
    "y_pred_test = lsvclassifier.predict(X_test)\n",
    "y_pred_train = lsvclassifier.predict(X_train)"
   ]
  },
  {
   "cell_type": "code",
   "execution_count": 61,
   "metadata": {},
   "outputs": [],
   "source": [
    "lsvc_train_accuracy = accuracy_score(y_train, y_pred_train)\n",
    "lsvc_test_accuracy = accuracy_score(y_test, y_pred_test)\n",
    "lsvc_train_recall = recall_score(y_train,y_pred_train,average=\"weighted\" )\n",
    "lsvc_test_recall = recall_score(y_test, y_pred_test,average=\"weighted\")"
   ]
  },
  {
   "cell_type": "code",
   "execution_count": 62,
   "metadata": {},
   "outputs": [
    {
     "name": "stdout",
     "output_type": "stream",
     "text": [
      "Train Recall score: 0.8808864265927978\n",
      "Test Recall score: 0.7802197802197802\n"
     ]
    },
    {
     "data": {
      "text/plain": [
       "array([[50,  1,  0,  0,  0,  0,  0,  0,  0,  0,  1],\n",
       "       [ 2,  6,  0,  0,  0,  0,  0,  0,  0,  0,  0],\n",
       "       [ 0,  0,  4,  0,  0,  0,  0,  0,  0,  0,  0],\n",
       "       [ 0,  0,  0,  1,  0,  0,  0,  0,  0,  0,  0],\n",
       "       [ 2,  0,  0,  0,  0,  0,  0,  0,  0,  0,  0],\n",
       "       [ 2,  1,  0,  0,  0,  0,  0,  0,  0,  0,  0],\n",
       "       [ 1,  0,  0,  0,  0,  0,  0,  0,  0,  0,  0],\n",
       "       [ 1,  0,  0,  0,  0,  0,  0,  1,  0,  0,  0],\n",
       "       [ 1,  0,  0,  0,  0,  0,  0,  0,  9,  0,  0],\n",
       "       [ 0,  1,  0,  0,  0,  0,  0,  0,  0,  0,  1],\n",
       "       [ 3,  2,  1,  0,  0,  0,  0,  0,  0,  0,  0]], dtype=int64)"
      ]
     },
     "execution_count": 62,
     "metadata": {},
     "output_type": "execute_result"
    }
   ],
   "source": [
    "print('Train Recall score: {}'\n",
    "      .format(lsvc_train_recall))\n",
    "print('Test Recall score: {}'\n",
    "      .format(lsvc_test_recall))\n",
    "confusion_matrix(y_test, y_pred_test)"
   ]
  },
  {
   "cell_type": "code",
   "execution_count": 63,
   "metadata": {},
   "outputs": [
    {
     "data": {
      "text/html": [
       "<div>\n",
       "<style scoped>\n",
       "    .dataframe tbody tr th:only-of-type {\n",
       "        vertical-align: middle;\n",
       "    }\n",
       "\n",
       "    .dataframe tbody tr th {\n",
       "        vertical-align: top;\n",
       "    }\n",
       "\n",
       "    .dataframe thead th {\n",
       "        text-align: right;\n",
       "    }\n",
       "</style>\n",
       "<table border=\"1\" class=\"dataframe\">\n",
       "  <thead>\n",
       "    <tr style=\"text-align: right;\">\n",
       "      <th></th>\n",
       "      <th>Model</th>\n",
       "      <th>Train Accuracy</th>\n",
       "      <th>Test Accuracy</th>\n",
       "    </tr>\n",
       "  </thead>\n",
       "  <tbody>\n",
       "    <tr>\n",
       "      <th>0</th>\n",
       "      <td>KNN Classifier</td>\n",
       "      <td>0.648199</td>\n",
       "      <td>0.648352</td>\n",
       "    </tr>\n",
       "    <tr>\n",
       "      <th>1</th>\n",
       "      <td>Logestic Regression</td>\n",
       "      <td>0.939058</td>\n",
       "      <td>0.780220</td>\n",
       "    </tr>\n",
       "    <tr>\n",
       "      <th>2</th>\n",
       "      <td>Linear SVC</td>\n",
       "      <td>0.880886</td>\n",
       "      <td>0.780220</td>\n",
       "    </tr>\n",
       "  </tbody>\n",
       "</table>\n",
       "</div>"
      ],
      "text/plain": [
       "                 Model  Train Accuracy  Test Accuracy\n",
       "0       KNN Classifier        0.648199       0.648352\n",
       "1  Logestic Regression        0.939058       0.780220\n",
       "2           Linear SVC        0.880886       0.780220"
      ]
     },
     "execution_count": 63,
     "metadata": {},
     "output_type": "execute_result"
    }
   ],
   "source": [
    "result = result.append(pd.Series({'Model':'Linear SVC','Train Accuracy':lsvc_train_accuracy,'Test Accuracy':lsvc_test_accuracy}),ignore_index=True )\n",
    "result"
   ]
  },
  {
   "cell_type": "markdown",
   "metadata": {},
   "source": [
    "## Kernelized SVM"
   ]
  },
  {
   "cell_type": "code",
   "execution_count": 64,
   "metadata": {
    "execution": {
     "iopub.execute_input": "2022-09-19T13:10:53.401449Z",
     "iopub.status.busy": "2022-09-19T13:10:53.400941Z",
     "iopub.status.idle": "2022-09-19T13:10:53.459175Z",
     "shell.execute_reply": "2022-09-19T13:10:53.457893Z",
     "shell.execute_reply.started": "2022-09-19T13:10:53.401412Z"
    }
   },
   "outputs": [],
   "source": [
    "from sklearn import svm\n",
    "KSVM_clf = svm.SVC(kernel='sigmoid',C=10,gamma=0.001)\n",
    "KSVM_clf.fit(X_train, y_train)\n",
    "y_pred_train = KSVM_clf.predict(X_train)\n",
    "y_pred_test = KSVM_clf.predict(X_test)"
   ]
  },
  {
   "cell_type": "code",
   "execution_count": 65,
   "metadata": {
    "execution": {
     "iopub.execute_input": "2022-09-19T13:10:53.464090Z",
     "iopub.status.busy": "2022-09-19T13:10:53.463706Z",
     "iopub.status.idle": "2022-09-19T13:10:53.477435Z",
     "shell.execute_reply": "2022-09-19T13:10:53.475688Z",
     "shell.execute_reply.started": "2022-09-19T13:10:53.464058Z"
    }
   },
   "outputs": [],
   "source": [
    "ksvm_train_recall = recall_score(y_train,y_pred_train,average=\"weighted\" )\n",
    "ksvm_test_recall = recall_score(y_test, y_pred_test,average=\"weighted\")\n",
    "\n",
    "ksvm_train_accuracy = accuracy_score(y_train, y_pred_train)\n",
    "ksvm_test_accuracy = accuracy_score(y_test, y_pred_test)"
   ]
  },
  {
   "cell_type": "code",
   "execution_count": 66,
   "metadata": {
    "execution": {
     "iopub.execute_input": "2022-09-19T13:10:53.479538Z",
     "iopub.status.busy": "2022-09-19T13:10:53.479045Z",
     "iopub.status.idle": "2022-09-19T13:10:53.491762Z",
     "shell.execute_reply": "2022-09-19T13:10:53.490370Z",
     "shell.execute_reply.started": "2022-09-19T13:10:53.479488Z"
    }
   },
   "outputs": [
    {
     "name": "stdout",
     "output_type": "stream",
     "text": [
      "Train Recall score: 0.850415512465374\n",
      "Test Recall score: 0.7912087912087912\n"
     ]
    },
    {
     "data": {
      "text/plain": [
       "array([[52,  0,  0,  0,  0,  0,  0,  0,  0,  0,  0],\n",
       "       [ 2,  6,  0,  0,  0,  0,  0,  0,  0,  0,  0],\n",
       "       [ 0,  0,  4,  0,  0,  0,  0,  0,  0,  0,  0],\n",
       "       [ 0,  0,  0,  1,  0,  0,  0,  0,  0,  0,  0],\n",
       "       [ 1,  0,  0,  0,  1,  0,  0,  0,  0,  0,  0],\n",
       "       [ 3,  0,  0,  0,  0,  0,  0,  0,  0,  0,  0],\n",
       "       [ 1,  0,  0,  0,  0,  0,  0,  0,  0,  0,  0],\n",
       "       [ 1,  0,  0,  0,  0,  0,  0,  1,  0,  0,  0],\n",
       "       [ 2,  1,  0,  0,  0,  0,  0,  0,  7,  0,  0],\n",
       "       [ 2,  0,  0,  0,  0,  0,  0,  0,  0,  0,  0],\n",
       "       [ 5,  0,  1,  0,  0,  0,  0,  0,  0,  0,  0]], dtype=int64)"
      ]
     },
     "execution_count": 66,
     "metadata": {},
     "output_type": "execute_result"
    }
   ],
   "source": [
    "print('Train Recall score: {}'\n",
    "      .format(ksvm_train_recall))\n",
    "print('Test Recall score: {}'\n",
    "      .format(ksvm_test_recall))\n",
    "confusion_matrix(y_test, y_pred_test)"
   ]
  },
  {
   "cell_type": "code",
   "execution_count": 67,
   "metadata": {
    "execution": {
     "iopub.execute_input": "2022-09-19T13:10:53.493997Z",
     "iopub.status.busy": "2022-09-19T13:10:53.493456Z",
     "iopub.status.idle": "2022-09-19T13:10:53.511723Z",
     "shell.execute_reply": "2022-09-19T13:10:53.510142Z",
     "shell.execute_reply.started": "2022-09-19T13:10:53.493957Z"
    }
   },
   "outputs": [
    {
     "data": {
      "text/html": [
       "<div>\n",
       "<style scoped>\n",
       "    .dataframe tbody tr th:only-of-type {\n",
       "        vertical-align: middle;\n",
       "    }\n",
       "\n",
       "    .dataframe tbody tr th {\n",
       "        vertical-align: top;\n",
       "    }\n",
       "\n",
       "    .dataframe thead th {\n",
       "        text-align: right;\n",
       "    }\n",
       "</style>\n",
       "<table border=\"1\" class=\"dataframe\">\n",
       "  <thead>\n",
       "    <tr style=\"text-align: right;\">\n",
       "      <th></th>\n",
       "      <th>Model</th>\n",
       "      <th>Train Accuracy</th>\n",
       "      <th>Test Accuracy</th>\n",
       "    </tr>\n",
       "  </thead>\n",
       "  <tbody>\n",
       "    <tr>\n",
       "      <th>0</th>\n",
       "      <td>KNN Classifier</td>\n",
       "      <td>0.648199</td>\n",
       "      <td>0.648352</td>\n",
       "    </tr>\n",
       "    <tr>\n",
       "      <th>1</th>\n",
       "      <td>Logestic Regression</td>\n",
       "      <td>0.939058</td>\n",
       "      <td>0.780220</td>\n",
       "    </tr>\n",
       "    <tr>\n",
       "      <th>2</th>\n",
       "      <td>Linear SVC</td>\n",
       "      <td>0.880886</td>\n",
       "      <td>0.780220</td>\n",
       "    </tr>\n",
       "    <tr>\n",
       "      <th>3</th>\n",
       "      <td>Kernelized SVM</td>\n",
       "      <td>0.850416</td>\n",
       "      <td>0.791209</td>\n",
       "    </tr>\n",
       "  </tbody>\n",
       "</table>\n",
       "</div>"
      ],
      "text/plain": [
       "                 Model  Train Accuracy  Test Accuracy\n",
       "0       KNN Classifier        0.648199       0.648352\n",
       "1  Logestic Regression        0.939058       0.780220\n",
       "2           Linear SVC        0.880886       0.780220\n",
       "3       Kernelized SVM        0.850416       0.791209"
      ]
     },
     "execution_count": 67,
     "metadata": {},
     "output_type": "execute_result"
    }
   ],
   "source": [
    "result = result.append(pd.Series({'Model':'Kernelized SVM','Train Accuracy':ksvm_train_accuracy,'Test Accuracy':ksvm_test_accuracy}),ignore_index=True )\n",
    "result"
   ]
  },
  {
   "cell_type": "markdown",
   "metadata": {},
   "source": [
    "# Random Forest Classifier"
   ]
  },
  {
   "cell_type": "code",
   "execution_count": 68,
   "metadata": {},
   "outputs": [
    {
     "data": {
      "text/html": [
       "<style>#sk-container-id-1 {color: black;background-color: white;}#sk-container-id-1 pre{padding: 0;}#sk-container-id-1 div.sk-toggleable {background-color: white;}#sk-container-id-1 label.sk-toggleable__label {cursor: pointer;display: block;width: 100%;margin-bottom: 0;padding: 0.3em;box-sizing: border-box;text-align: center;}#sk-container-id-1 label.sk-toggleable__label-arrow:before {content: \"▸\";float: left;margin-right: 0.25em;color: #696969;}#sk-container-id-1 label.sk-toggleable__label-arrow:hover:before {color: black;}#sk-container-id-1 div.sk-estimator:hover label.sk-toggleable__label-arrow:before {color: black;}#sk-container-id-1 div.sk-toggleable__content {max-height: 0;max-width: 0;overflow: hidden;text-align: left;background-color: #f0f8ff;}#sk-container-id-1 div.sk-toggleable__content pre {margin: 0.2em;color: black;border-radius: 0.25em;background-color: #f0f8ff;}#sk-container-id-1 input.sk-toggleable__control:checked~div.sk-toggleable__content {max-height: 200px;max-width: 100%;overflow: auto;}#sk-container-id-1 input.sk-toggleable__control:checked~label.sk-toggleable__label-arrow:before {content: \"▾\";}#sk-container-id-1 div.sk-estimator input.sk-toggleable__control:checked~label.sk-toggleable__label {background-color: #d4ebff;}#sk-container-id-1 div.sk-label input.sk-toggleable__control:checked~label.sk-toggleable__label {background-color: #d4ebff;}#sk-container-id-1 input.sk-hidden--visually {border: 0;clip: rect(1px 1px 1px 1px);clip: rect(1px, 1px, 1px, 1px);height: 1px;margin: -1px;overflow: hidden;padding: 0;position: absolute;width: 1px;}#sk-container-id-1 div.sk-estimator {font-family: monospace;background-color: #f0f8ff;border: 1px dotted black;border-radius: 0.25em;box-sizing: border-box;margin-bottom: 0.5em;}#sk-container-id-1 div.sk-estimator:hover {background-color: #d4ebff;}#sk-container-id-1 div.sk-parallel-item::after {content: \"\";width: 100%;border-bottom: 1px solid gray;flex-grow: 1;}#sk-container-id-1 div.sk-label:hover label.sk-toggleable__label {background-color: #d4ebff;}#sk-container-id-1 div.sk-serial::before {content: \"\";position: absolute;border-left: 1px solid gray;box-sizing: border-box;top: 0;bottom: 0;left: 50%;z-index: 0;}#sk-container-id-1 div.sk-serial {display: flex;flex-direction: column;align-items: center;background-color: white;padding-right: 0.2em;padding-left: 0.2em;position: relative;}#sk-container-id-1 div.sk-item {position: relative;z-index: 1;}#sk-container-id-1 div.sk-parallel {display: flex;align-items: stretch;justify-content: center;background-color: white;position: relative;}#sk-container-id-1 div.sk-item::before, #sk-container-id-1 div.sk-parallel-item::before {content: \"\";position: absolute;border-left: 1px solid gray;box-sizing: border-box;top: 0;bottom: 0;left: 50%;z-index: -1;}#sk-container-id-1 div.sk-parallel-item {display: flex;flex-direction: column;z-index: 1;position: relative;background-color: white;}#sk-container-id-1 div.sk-parallel-item:first-child::after {align-self: flex-end;width: 50%;}#sk-container-id-1 div.sk-parallel-item:last-child::after {align-self: flex-start;width: 50%;}#sk-container-id-1 div.sk-parallel-item:only-child::after {width: 0;}#sk-container-id-1 div.sk-dashed-wrapped {border: 1px dashed gray;margin: 0 0.4em 0.5em 0.4em;box-sizing: border-box;padding-bottom: 0.4em;background-color: white;}#sk-container-id-1 div.sk-label label {font-family: monospace;font-weight: bold;display: inline-block;line-height: 1.2em;}#sk-container-id-1 div.sk-label-container {text-align: center;}#sk-container-id-1 div.sk-container {/* jupyter's `normalize.less` sets `[hidden] { display: none; }` but bootstrap.min.css set `[hidden] { display: none !important; }` so we also need the `!important` here to be able to override the default hidden behavior on the sphinx rendered scikit-learn.org. See: https://github.com/scikit-learn/scikit-learn/issues/21755 */display: inline-block !important;position: relative;}#sk-container-id-1 div.sk-text-repr-fallback {display: none;}</style><div id=\"sk-container-id-1\" class=\"sk-top-container\"><div class=\"sk-text-repr-fallback\"><pre>RandomForestClassifier(max_depth=10, max_features=100, max_leaf_nodes=30,\n",
       "                       n_estimators=300)</pre><b>In a Jupyter environment, please rerun this cell to show the HTML representation or trust the notebook. <br />On GitHub, the HTML representation is unable to render, please try loading this page with nbviewer.org.</b></div><div class=\"sk-container\" hidden><div class=\"sk-item\"><div class=\"sk-estimator sk-toggleable\"><input class=\"sk-toggleable__control sk-hidden--visually\" id=\"sk-estimator-id-1\" type=\"checkbox\" checked><label for=\"sk-estimator-id-1\" class=\"sk-toggleable__label sk-toggleable__label-arrow\">RandomForestClassifier</label><div class=\"sk-toggleable__content\"><pre>RandomForestClassifier(max_depth=10, max_features=100, max_leaf_nodes=30,\n",
       "                       n_estimators=300)</pre></div></div></div></div></div>"
      ],
      "text/plain": [
       "RandomForestClassifier(max_depth=10, max_features=100, max_leaf_nodes=30,\n",
       "                       n_estimators=300)"
      ]
     },
     "execution_count": 68,
     "metadata": {},
     "output_type": "execute_result"
    }
   ],
   "source": [
    "from sklearn.ensemble import RandomForestClassifier\n",
    "rf_clf = RandomForestClassifier(n_estimators=300, criterion='gini',max_features=100,max_depth=10,max_leaf_nodes=30)\n",
    "rf_clf.fit(X_train, y_train)"
   ]
  },
  {
   "cell_type": "code",
   "execution_count": 69,
   "metadata": {},
   "outputs": [],
   "source": [
    "y_pred_train = rf_clf.predict(X_train)\n",
    "y_pred_test = rf_clf.predict(X_test)\n",
    "\n",
    "rf_train_accuracy = accuracy_score(y_train, y_pred_train)\n",
    "rf_test_accuracy = accuracy_score(y_test, y_pred_test)\n",
    "rf_train_recall = recall_score(y_train,y_pred_train,average=\"weighted\" )\n",
    "rf_test_recall = recall_score(y_test, y_pred_test,average=\"weighted\")"
   ]
  },
  {
   "cell_type": "code",
   "execution_count": 70,
   "metadata": {},
   "outputs": [
    {
     "name": "stdout",
     "output_type": "stream",
     "text": [
      "Train Recall score: 0.8947368421052632\n",
      "Test Recall score: 0.7582417582417582\n"
     ]
    },
    {
     "data": {
      "text/plain": [
       "array([[51,  0,  0,  0,  0,  0,  0,  0,  1,  0,  0],\n",
       "       [ 2,  6,  0,  0,  0,  0,  0,  0,  0,  0,  0],\n",
       "       [ 0,  0,  4,  0,  0,  0,  0,  0,  0,  0,  0],\n",
       "       [ 0,  0,  0,  1,  0,  0,  0,  0,  0,  0,  0],\n",
       "       [ 1,  1,  0,  0,  0,  0,  0,  0,  0,  0,  0],\n",
       "       [ 2,  1,  0,  0,  0,  0,  0,  0,  0,  0,  0],\n",
       "       [ 1,  0,  0,  0,  0,  0,  0,  0,  0,  0,  0],\n",
       "       [ 1,  0,  0,  0,  0,  0,  0,  1,  0,  0,  0],\n",
       "       [ 3,  1,  0,  0,  0,  0,  0,  0,  6,  0,  0],\n",
       "       [ 2,  0,  0,  0,  0,  0,  0,  0,  0,  0,  0],\n",
       "       [ 4,  1,  1,  0,  0,  0,  0,  0,  0,  0,  0]], dtype=int64)"
      ]
     },
     "execution_count": 70,
     "metadata": {},
     "output_type": "execute_result"
    }
   ],
   "source": [
    "print('Train Recall score: {}'\n",
    "      .format(rf_train_recall))\n",
    "print('Test Recall score: {}'\n",
    "      .format(rf_test_recall))\n",
    "confusion_matrix(y_test, y_pred_test)"
   ]
  },
  {
   "cell_type": "code",
   "execution_count": 71,
   "metadata": {},
   "outputs": [
    {
     "data": {
      "text/html": [
       "<div>\n",
       "<style scoped>\n",
       "    .dataframe tbody tr th:only-of-type {\n",
       "        vertical-align: middle;\n",
       "    }\n",
       "\n",
       "    .dataframe tbody tr th {\n",
       "        vertical-align: top;\n",
       "    }\n",
       "\n",
       "    .dataframe thead th {\n",
       "        text-align: right;\n",
       "    }\n",
       "</style>\n",
       "<table border=\"1\" class=\"dataframe\">\n",
       "  <thead>\n",
       "    <tr style=\"text-align: right;\">\n",
       "      <th></th>\n",
       "      <th>Model</th>\n",
       "      <th>Train Accuracy</th>\n",
       "      <th>Test Accuracy</th>\n",
       "    </tr>\n",
       "  </thead>\n",
       "  <tbody>\n",
       "    <tr>\n",
       "      <th>0</th>\n",
       "      <td>KNN Classifier</td>\n",
       "      <td>0.648199</td>\n",
       "      <td>0.648352</td>\n",
       "    </tr>\n",
       "    <tr>\n",
       "      <th>1</th>\n",
       "      <td>Logestic Regression</td>\n",
       "      <td>0.939058</td>\n",
       "      <td>0.780220</td>\n",
       "    </tr>\n",
       "    <tr>\n",
       "      <th>2</th>\n",
       "      <td>Linear SVC</td>\n",
       "      <td>0.880886</td>\n",
       "      <td>0.780220</td>\n",
       "    </tr>\n",
       "    <tr>\n",
       "      <th>3</th>\n",
       "      <td>Kernelized SVM</td>\n",
       "      <td>0.850416</td>\n",
       "      <td>0.791209</td>\n",
       "    </tr>\n",
       "    <tr>\n",
       "      <th>4</th>\n",
       "      <td>Random Forest Classifier</td>\n",
       "      <td>0.894737</td>\n",
       "      <td>0.758242</td>\n",
       "    </tr>\n",
       "  </tbody>\n",
       "</table>\n",
       "</div>"
      ],
      "text/plain": [
       "                      Model  Train Accuracy  Test Accuracy\n",
       "0            KNN Classifier        0.648199       0.648352\n",
       "1       Logestic Regression        0.939058       0.780220\n",
       "2                Linear SVC        0.880886       0.780220\n",
       "3            Kernelized SVM        0.850416       0.791209\n",
       "4  Random Forest Classifier        0.894737       0.758242"
      ]
     },
     "execution_count": 71,
     "metadata": {},
     "output_type": "execute_result"
    }
   ],
   "source": [
    "result = result.append(pd.Series({'Model':'Random Forest Classifier','Train Accuracy':rf_train_accuracy,'Test Accuracy':rf_test_accuracy}),ignore_index=True )\n",
    "result"
   ]
  },
  {
   "cell_type": "markdown",
   "metadata": {},
   "source": [
    "We found that the best model in term of recall Score is kernelized SVM with accuracy percentage of 79.12 over other models. We also found that Logestic Regression has better accuracy score."
   ]
  },
  {
   "cell_type": "markdown",
   "metadata": {},
   "source": [
    "# PCA\n",
    "\n",
    "We will be using PCA(Principal Component Analysis) to reduce the dimension of our sampled dataset to get best feature to find better accuracy."
   ]
  },
  {
   "cell_type": "code",
   "execution_count": 72,
   "metadata": {
    "execution": {
     "iopub.execute_input": "2022-09-19T13:10:53.514390Z",
     "iopub.status.busy": "2022-09-19T13:10:53.513503Z",
     "iopub.status.idle": "2022-09-19T13:10:53.564467Z",
     "shell.execute_reply": "2022-09-19T13:10:53.563021Z",
     "shell.execute_reply.started": "2022-09-19T13:10:53.514339Z"
    }
   },
   "outputs": [
    {
     "data": {
      "text/plain": [
       "121"
      ]
     },
     "execution_count": 72,
     "metadata": {},
     "output_type": "execute_result"
    }
   ],
   "source": [
    "from sklearn.decomposition import PCA\n",
    "pca = PCA(.98)\n",
    "pca.fit(X_train)\n",
    "pca.n_components_"
   ]
  },
  {
   "cell_type": "code",
   "execution_count": 73,
   "metadata": {
    "execution": {
     "iopub.execute_input": "2022-09-19T13:10:53.567445Z",
     "iopub.status.busy": "2022-09-19T13:10:53.566508Z",
     "iopub.status.idle": "2022-09-19T13:10:53.579059Z",
     "shell.execute_reply": "2022-09-19T13:10:53.575576Z",
     "shell.execute_reply.started": "2022-09-19T13:10:53.567393Z"
    }
   },
   "outputs": [],
   "source": [
    "X_train_pca = pca.transform(X_train)\n",
    "X_test_pca = pca.transform(X_test)"
   ]
  },
  {
   "cell_type": "code",
   "execution_count": 74,
   "metadata": {
    "execution": {
     "iopub.execute_input": "2022-09-19T13:10:53.589770Z",
     "iopub.status.busy": "2022-09-19T13:10:53.586082Z",
     "iopub.status.idle": "2022-09-19T13:10:53.599538Z",
     "shell.execute_reply": "2022-09-19T13:10:53.597890Z",
     "shell.execute_reply.started": "2022-09-19T13:10:53.589701Z"
    }
   },
   "outputs": [],
   "source": [
    "from sklearn.model_selection import StratifiedKFold\n",
    "kFold = StratifiedKFold(n_splits=5)\n",
    "from sklearn.model_selection import GridSearchCV"
   ]
  },
  {
   "cell_type": "markdown",
   "metadata": {},
   "source": [
    "# KNN with PCA"
   ]
  },
  {
   "cell_type": "code",
   "execution_count": 75,
   "metadata": {},
   "outputs": [],
   "source": [
    "from sklearn.neighbors import KNeighborsClassifier\n",
    "knnp_clf = KNeighborsClassifier(n_neighbors=5)\n",
    "knnp_clf.fit(X_train_pca, y_train)\n",
    "y_pred_train = knnp_clf.predict(X_train_pca)\n",
    "y_pred_test = knnp_clf.predict(X_test_pca)"
   ]
  },
  {
   "cell_type": "code",
   "execution_count": 76,
   "metadata": {},
   "outputs": [],
   "source": [
    "knnp_train_recall = recall_score(y_train, y_pred_train, average='weighted')\n",
    "knnp_test_recall = recall_score(y_test, y_pred_test, average='weighted')\n",
    "knnp_train_accuracy = accuracy_score(y_train, y_pred_train)\n",
    "knnp_test_accuracy = accuracy_score(y_test, y_pred_test)"
   ]
  },
  {
   "cell_type": "code",
   "execution_count": 77,
   "metadata": {},
   "outputs": [
    {
     "name": "stdout",
     "output_type": "stream",
     "text": [
      "Train Recall score: 0.6454293628808865\n",
      "Test Recall score: 0.6483516483516484\n"
     ]
    },
    {
     "data": {
      "text/plain": [
       "array([[51,  0,  0,  0,  0,  1,  0,  0,  0,  0,  0],\n",
       "       [ 6,  2,  0,  0,  0,  0,  0,  0,  0,  0,  0],\n",
       "       [ 2,  0,  2,  0,  0,  0,  0,  0,  0,  0,  0],\n",
       "       [ 0,  0,  0,  1,  0,  0,  0,  0,  0,  0,  0],\n",
       "       [ 2,  0,  0,  0,  0,  0,  0,  0,  0,  0,  0],\n",
       "       [ 3,  0,  0,  0,  0,  0,  0,  0,  0,  0,  0],\n",
       "       [ 1,  0,  0,  0,  0,  0,  0,  0,  0,  0,  0],\n",
       "       [ 0,  0,  0,  0,  0,  0,  0,  1,  0,  0,  1],\n",
       "       [ 8,  0,  0,  0,  0,  0,  0,  0,  2,  0,  0],\n",
       "       [ 2,  0,  0,  0,  0,  0,  0,  0,  0,  0,  0],\n",
       "       [ 6,  0,  0,  0,  0,  0,  0,  0,  0,  0,  0]], dtype=int64)"
      ]
     },
     "execution_count": 77,
     "metadata": {},
     "output_type": "execute_result"
    }
   ],
   "source": [
    "a=accuracy_score(y_test, y_pred_test)\n",
    "print('Train Recall score: {}'\n",
    "      .format(knnp_train_recall))\n",
    "print('Test Recall score: {}'\n",
    "      .format(knnp_test_recall))\n",
    "\n",
    "confusion_matrix(y_test, y_pred_test)"
   ]
  },
  {
   "cell_type": "code",
   "execution_count": 78,
   "metadata": {},
   "outputs": [
    {
     "name": "stdout",
     "output_type": "stream",
     "text": [
      "0.6483516483516484\n"
     ]
    }
   ],
   "source": [
    "print(a)"
   ]
  },
  {
   "cell_type": "code",
   "execution_count": 79,
   "metadata": {},
   "outputs": [
    {
     "data": {
      "text/html": [
       "<div>\n",
       "<style scoped>\n",
       "    .dataframe tbody tr th:only-of-type {\n",
       "        vertical-align: middle;\n",
       "    }\n",
       "\n",
       "    .dataframe tbody tr th {\n",
       "        vertical-align: top;\n",
       "    }\n",
       "\n",
       "    .dataframe thead th {\n",
       "        text-align: right;\n",
       "    }\n",
       "</style>\n",
       "<table border=\"1\" class=\"dataframe\">\n",
       "  <thead>\n",
       "    <tr style=\"text-align: right;\">\n",
       "      <th></th>\n",
       "      <th>Model</th>\n",
       "      <th>Train Accuracy</th>\n",
       "      <th>Test Accuracy</th>\n",
       "    </tr>\n",
       "  </thead>\n",
       "  <tbody>\n",
       "    <tr>\n",
       "      <th>0</th>\n",
       "      <td>KNN Classifier</td>\n",
       "      <td>0.648199</td>\n",
       "      <td>0.648352</td>\n",
       "    </tr>\n",
       "    <tr>\n",
       "      <th>1</th>\n",
       "      <td>Logestic Regression</td>\n",
       "      <td>0.939058</td>\n",
       "      <td>0.780220</td>\n",
       "    </tr>\n",
       "    <tr>\n",
       "      <th>2</th>\n",
       "      <td>Linear SVC</td>\n",
       "      <td>0.880886</td>\n",
       "      <td>0.780220</td>\n",
       "    </tr>\n",
       "    <tr>\n",
       "      <th>3</th>\n",
       "      <td>Kernelized SVM</td>\n",
       "      <td>0.850416</td>\n",
       "      <td>0.791209</td>\n",
       "    </tr>\n",
       "    <tr>\n",
       "      <th>4</th>\n",
       "      <td>Random Forest Classifier</td>\n",
       "      <td>0.894737</td>\n",
       "      <td>0.758242</td>\n",
       "    </tr>\n",
       "    <tr>\n",
       "      <th>5</th>\n",
       "      <td>KNN Classifier with PCA</td>\n",
       "      <td>0.645429</td>\n",
       "      <td>0.648352</td>\n",
       "    </tr>\n",
       "  </tbody>\n",
       "</table>\n",
       "</div>"
      ],
      "text/plain": [
       "                      Model  Train Accuracy  Test Accuracy\n",
       "0            KNN Classifier        0.648199       0.648352\n",
       "1       Logestic Regression        0.939058       0.780220\n",
       "2                Linear SVC        0.880886       0.780220\n",
       "3            Kernelized SVM        0.850416       0.791209\n",
       "4  Random Forest Classifier        0.894737       0.758242\n",
       "5   KNN Classifier with PCA        0.645429       0.648352"
      ]
     },
     "execution_count": 79,
     "metadata": {},
     "output_type": "execute_result"
    }
   ],
   "source": [
    "result = result.append(pd.Series({'Model':'KNN Classifier with PCA','Train Accuracy':knnp_train_accuracy,'Test Accuracy':knnp_test_accuracy}),ignore_index=True)\n",
    "result\n"
   ]
  },
  {
   "cell_type": "markdown",
   "metadata": {},
   "source": [
    "we didn't find any improvement on PCA data with knn classifier model."
   ]
  },
  {
   "cell_type": "markdown",
   "metadata": {},
   "source": [
    "# Logestic with PCA"
   ]
  },
  {
   "cell_type": "code",
   "execution_count": 80,
   "metadata": {},
   "outputs": [],
   "source": [
    "from sklearn.linear_model import LogisticRegression\n",
    "lgp_clf = LogisticRegression(solver='saga',C=0.01)\n",
    "lgp_clf.fit(X_train_pca, y_train)\n",
    "y_pred_train = lgp_clf.predict(X_train_pca)\n",
    "y_pred_test = lgp_clf.predict(X_test_pca)\n"
   ]
  },
  {
   "cell_type": "code",
   "execution_count": 81,
   "metadata": {},
   "outputs": [],
   "source": [
    "lgp_train_recall = recall_score(y_train, y_pred_train, average='weighted')\n",
    "lgp_test_recall = recall_score(y_test, y_pred_test, average='weighted')\n",
    "lgp_train_accuracy = accuracy_score(y_train, y_pred_train)\n",
    "lgp_test_accuracy = accuracy_score(y_test, y_pred_test)"
   ]
  },
  {
   "cell_type": "code",
   "execution_count": 82,
   "metadata": {},
   "outputs": [
    {
     "name": "stdout",
     "output_type": "stream",
     "text": [
      "Train Recall score: 0.7839335180055401\n",
      "Test Recall score: 0.7912087912087912\n"
     ]
    },
    {
     "data": {
      "text/plain": [
       "array([[52,  0,  0,  0,  0,  0,  0,  0,  0,  0,  0],\n",
       "       [ 2,  6,  0,  0,  0,  0,  0,  0,  0,  0,  0],\n",
       "       [ 0,  0,  4,  0,  0,  0,  0,  0,  0,  0,  0],\n",
       "       [ 0,  0,  0,  1,  0,  0,  0,  0,  0,  0,  0],\n",
       "       [ 2,  0,  0,  0,  0,  0,  0,  0,  0,  0,  0],\n",
       "       [ 3,  0,  0,  0,  0,  0,  0,  0,  0,  0,  0],\n",
       "       [ 1,  0,  0,  0,  0,  0,  0,  0,  0,  0,  0],\n",
       "       [ 1,  0,  0,  0,  0,  0,  0,  1,  0,  0,  0],\n",
       "       [ 2,  1,  0,  0,  0,  0,  0,  0,  7,  0,  0],\n",
       "       [ 1,  0,  0,  0,  0,  0,  0,  0,  0,  0,  1],\n",
       "       [ 4,  1,  0,  0,  0,  0,  0,  0,  0,  0,  1]], dtype=int64)"
      ]
     },
     "execution_count": 82,
     "metadata": {},
     "output_type": "execute_result"
    }
   ],
   "source": [
    "b=accuracy_score(y_test, y_pred_test)\n",
    "print('Train Recall score: {}'\n",
    "      .format(lgp_train_recall))\n",
    "print('Test Recall score: {}'\n",
    "      .format(lgp_test_recall))\n",
    "\n",
    "confusion_matrix(y_test, y_pred_test)"
   ]
  },
  {
   "cell_type": "code",
   "execution_count": 83,
   "metadata": {},
   "outputs": [
    {
     "name": "stdout",
     "output_type": "stream",
     "text": [
      "0.7912087912087912\n"
     ]
    }
   ],
   "source": [
    "print(b)"
   ]
  },
  {
   "cell_type": "code",
   "execution_count": 84,
   "metadata": {},
   "outputs": [
    {
     "data": {
      "text/html": [
       "<div>\n",
       "<style scoped>\n",
       "    .dataframe tbody tr th:only-of-type {\n",
       "        vertical-align: middle;\n",
       "    }\n",
       "\n",
       "    .dataframe tbody tr th {\n",
       "        vertical-align: top;\n",
       "    }\n",
       "\n",
       "    .dataframe thead th {\n",
       "        text-align: right;\n",
       "    }\n",
       "</style>\n",
       "<table border=\"1\" class=\"dataframe\">\n",
       "  <thead>\n",
       "    <tr style=\"text-align: right;\">\n",
       "      <th></th>\n",
       "      <th>Model</th>\n",
       "      <th>Train Accuracy</th>\n",
       "      <th>Test Accuracy</th>\n",
       "    </tr>\n",
       "  </thead>\n",
       "  <tbody>\n",
       "    <tr>\n",
       "      <th>0</th>\n",
       "      <td>KNN Classifier</td>\n",
       "      <td>0.648199</td>\n",
       "      <td>0.648352</td>\n",
       "    </tr>\n",
       "    <tr>\n",
       "      <th>1</th>\n",
       "      <td>Logestic Regression</td>\n",
       "      <td>0.939058</td>\n",
       "      <td>0.780220</td>\n",
       "    </tr>\n",
       "    <tr>\n",
       "      <th>2</th>\n",
       "      <td>Linear SVC</td>\n",
       "      <td>0.880886</td>\n",
       "      <td>0.780220</td>\n",
       "    </tr>\n",
       "    <tr>\n",
       "      <th>3</th>\n",
       "      <td>Kernelized SVM</td>\n",
       "      <td>0.850416</td>\n",
       "      <td>0.791209</td>\n",
       "    </tr>\n",
       "    <tr>\n",
       "      <th>4</th>\n",
       "      <td>Random Forest Classifier</td>\n",
       "      <td>0.894737</td>\n",
       "      <td>0.758242</td>\n",
       "    </tr>\n",
       "    <tr>\n",
       "      <th>5</th>\n",
       "      <td>KNN Classifier with PCA</td>\n",
       "      <td>0.645429</td>\n",
       "      <td>0.648352</td>\n",
       "    </tr>\n",
       "    <tr>\n",
       "      <th>6</th>\n",
       "      <td>Logestic Regression with PCA</td>\n",
       "      <td>0.783934</td>\n",
       "      <td>0.791209</td>\n",
       "    </tr>\n",
       "  </tbody>\n",
       "</table>\n",
       "</div>"
      ],
      "text/plain": [
       "                          Model  Train Accuracy  Test Accuracy\n",
       "0                KNN Classifier        0.648199       0.648352\n",
       "1           Logestic Regression        0.939058       0.780220\n",
       "2                    Linear SVC        0.880886       0.780220\n",
       "3                Kernelized SVM        0.850416       0.791209\n",
       "4      Random Forest Classifier        0.894737       0.758242\n",
       "5       KNN Classifier with PCA        0.645429       0.648352\n",
       "6  Logestic Regression with PCA        0.783934       0.791209"
      ]
     },
     "execution_count": 84,
     "metadata": {},
     "output_type": "execute_result"
    }
   ],
   "source": [
    "result = result.append(pd.Series({'Model':'Logestic Regression with PCA','Train Accuracy':lgp_train_accuracy,'Test Accuracy':lgp_test_accuracy}),ignore_index=True )\n",
    "result\n"
   ]
  },
  {
   "cell_type": "markdown",
   "metadata": {},
   "source": [
    "# Linear svm with PCA"
   ]
  },
  {
   "cell_type": "code",
   "execution_count": 85,
   "metadata": {},
   "outputs": [],
   "source": [
    "from sklearn.svm import LinearSVC\n",
    "LSVC_clf = LinearSVC(C=0.001)\n",
    "LSVC_clf.fit(X_train_pca, y_train)\n",
    "y_pred_train = LSVC_clf.predict(X_train_pca)\n",
    "y_pred_test = LSVC_clf.predict(X_test_pca)"
   ]
  },
  {
   "cell_type": "code",
   "execution_count": 86,
   "metadata": {},
   "outputs": [],
   "source": [
    "lsvcp_train_recall = recall_score(y_train, y_pred_train, average='weighted')\n",
    "lsvcp_test_recall = recall_score(y_test, y_pred_test, average='weighted')\n",
    "lsvcp_train_accuracy = accuracy_score(y_train, y_pred_train)\n",
    "lsvcp_test_accuracy = accuracy_score(y_test, y_pred_test)"
   ]
  },
  {
   "cell_type": "code",
   "execution_count": 87,
   "metadata": {
    "scrolled": true
   },
   "outputs": [
    {
     "name": "stdout",
     "output_type": "stream",
     "text": [
      "Train Recall score: 0.8088642659279779\n",
      "Test Recall score: 0.8021978021978022\n"
     ]
    },
    {
     "data": {
      "text/plain": [
       "array([[50,  2,  0,  0,  0,  0,  0,  0,  0,  0,  0],\n",
       "       [ 2,  6,  0,  0,  0,  0,  0,  0,  0,  0,  0],\n",
       "       [ 0,  0,  4,  0,  0,  0,  0,  0,  0,  0,  0],\n",
       "       [ 0,  0,  0,  1,  0,  0,  0,  0,  0,  0,  0],\n",
       "       [ 1,  0,  0,  0,  1,  0,  0,  0,  0,  0,  0],\n",
       "       [ 2,  1,  0,  0,  0,  0,  0,  0,  0,  0,  0],\n",
       "       [ 1,  0,  0,  0,  0,  0,  0,  0,  0,  0,  0],\n",
       "       [ 1,  0,  0,  0,  0,  0,  0,  1,  0,  0,  0],\n",
       "       [ 0,  0,  0,  0,  0,  0,  0,  0, 10,  0,  0],\n",
       "       [ 1,  0,  0,  0,  0,  0,  0,  0,  0,  0,  1],\n",
       "       [ 2,  2,  1,  0,  0,  0,  0,  0,  1,  0,  0]], dtype=int64)"
      ]
     },
     "execution_count": 87,
     "metadata": {},
     "output_type": "execute_result"
    }
   ],
   "source": [
    "c=accuracy_score(y_test, y_pred_test)\n",
    "print('Train Recall score: {}'\n",
    "      .format(lsvcp_train_recall))\n",
    "print('Test Recall score: {}'\n",
    "      .format(lsvcp_test_recall))\n",
    "\n",
    "confusion_matrix(y_test, y_pred_test)"
   ]
  },
  {
   "cell_type": "code",
   "execution_count": 88,
   "metadata": {},
   "outputs": [
    {
     "name": "stdout",
     "output_type": "stream",
     "text": [
      "0.8021978021978022\n"
     ]
    }
   ],
   "source": [
    "print(c)"
   ]
  },
  {
   "cell_type": "code",
   "execution_count": 89,
   "metadata": {},
   "outputs": [
    {
     "data": {
      "text/html": [
       "<div>\n",
       "<style scoped>\n",
       "    .dataframe tbody tr th:only-of-type {\n",
       "        vertical-align: middle;\n",
       "    }\n",
       "\n",
       "    .dataframe tbody tr th {\n",
       "        vertical-align: top;\n",
       "    }\n",
       "\n",
       "    .dataframe thead th {\n",
       "        text-align: right;\n",
       "    }\n",
       "</style>\n",
       "<table border=\"1\" class=\"dataframe\">\n",
       "  <thead>\n",
       "    <tr style=\"text-align: right;\">\n",
       "      <th></th>\n",
       "      <th>Model</th>\n",
       "      <th>Train Accuracy</th>\n",
       "      <th>Test Accuracy</th>\n",
       "    </tr>\n",
       "  </thead>\n",
       "  <tbody>\n",
       "    <tr>\n",
       "      <th>0</th>\n",
       "      <td>KNN Classifier</td>\n",
       "      <td>0.648199</td>\n",
       "      <td>0.648352</td>\n",
       "    </tr>\n",
       "    <tr>\n",
       "      <th>1</th>\n",
       "      <td>Logestic Regression</td>\n",
       "      <td>0.939058</td>\n",
       "      <td>0.780220</td>\n",
       "    </tr>\n",
       "    <tr>\n",
       "      <th>2</th>\n",
       "      <td>Linear SVC</td>\n",
       "      <td>0.880886</td>\n",
       "      <td>0.780220</td>\n",
       "    </tr>\n",
       "    <tr>\n",
       "      <th>3</th>\n",
       "      <td>Kernelized SVM</td>\n",
       "      <td>0.850416</td>\n",
       "      <td>0.791209</td>\n",
       "    </tr>\n",
       "    <tr>\n",
       "      <th>4</th>\n",
       "      <td>Random Forest Classifier</td>\n",
       "      <td>0.894737</td>\n",
       "      <td>0.758242</td>\n",
       "    </tr>\n",
       "    <tr>\n",
       "      <th>5</th>\n",
       "      <td>KNN Classifier with PCA</td>\n",
       "      <td>0.645429</td>\n",
       "      <td>0.648352</td>\n",
       "    </tr>\n",
       "    <tr>\n",
       "      <th>6</th>\n",
       "      <td>Logestic Regression with PCA</td>\n",
       "      <td>0.783934</td>\n",
       "      <td>0.791209</td>\n",
       "    </tr>\n",
       "    <tr>\n",
       "      <th>7</th>\n",
       "      <td>Linear SVC with PCA</td>\n",
       "      <td>0.808864</td>\n",
       "      <td>0.802198</td>\n",
       "    </tr>\n",
       "  </tbody>\n",
       "</table>\n",
       "</div>"
      ],
      "text/plain": [
       "                          Model  Train Accuracy  Test Accuracy\n",
       "0                KNN Classifier        0.648199       0.648352\n",
       "1           Logestic Regression        0.939058       0.780220\n",
       "2                    Linear SVC        0.880886       0.780220\n",
       "3                Kernelized SVM        0.850416       0.791209\n",
       "4      Random Forest Classifier        0.894737       0.758242\n",
       "5       KNN Classifier with PCA        0.645429       0.648352\n",
       "6  Logestic Regression with PCA        0.783934       0.791209\n",
       "7           Linear SVC with PCA        0.808864       0.802198"
      ]
     },
     "execution_count": 89,
     "metadata": {},
     "output_type": "execute_result"
    }
   ],
   "source": [
    "result = result.append(pd.Series({'Model':'Linear SVC with PCA','Train Accuracy':lsvcp_train_accuracy,'Test Accuracy':lsvcp_test_accuracy}),ignore_index=True )\n",
    "result"
   ]
  },
  {
   "cell_type": "markdown",
   "metadata": {},
   "source": [
    "# Random Forest Classifier With PCA"
   ]
  },
  {
   "cell_type": "code",
   "execution_count": 90,
   "metadata": {},
   "outputs": [],
   "source": [
    "from sklearn.ensemble import RandomForestClassifier\n",
    "rfp_clf = RandomForestClassifier()\n",
    "rfp_clf.fit(X_train_pca, y_train)\n",
    "y_pred_train = rfp_clf.predict(X_train_pca)\n",
    "y_pred_test = rfp_clf.predict(X_test_pca)"
   ]
  },
  {
   "cell_type": "code",
   "execution_count": 91,
   "metadata": {},
   "outputs": [],
   "source": [
    "rfp_train_recall = recall_score(y_train, y_pred_train, average='weighted')\n",
    "rfp_test_recall = recall_score(y_test, y_pred_test, average='weighted')\n",
    "rfp_train_accuracy = accuracy_score(y_train, y_pred_train)\n",
    "rfp_test_accuracy = accuracy_score(y_test, y_pred_test)"
   ]
  },
  {
   "cell_type": "code",
   "execution_count": 92,
   "metadata": {},
   "outputs": [
    {
     "name": "stdout",
     "output_type": "stream",
     "text": [
      "Train Recall score: 1.0\n",
      "Test Recall score: 0.6373626373626373\n"
     ]
    },
    {
     "data": {
      "text/plain": [
       "array([[50,  0,  0,  0,  0,  0,  0,  0,  1,  0,  1],\n",
       "       [ 6,  2,  0,  0,  0,  0,  0,  0,  0,  0,  0],\n",
       "       [ 2,  0,  2,  0,  0,  0,  0,  0,  0,  0,  0],\n",
       "       [ 1,  0,  0,  0,  0,  0,  0,  0,  0,  0,  0],\n",
       "       [ 2,  0,  0,  0,  0,  0,  0,  0,  0,  0,  0],\n",
       "       [ 3,  0,  0,  0,  0,  0,  0,  0,  0,  0,  0],\n",
       "       [ 1,  0,  0,  0,  0,  0,  0,  0,  0,  0,  0],\n",
       "       [ 1,  1,  0,  0,  0,  0,  0,  0,  0,  0,  0],\n",
       "       [ 6,  0,  0,  0,  0,  0,  0,  0,  4,  0,  0],\n",
       "       [ 2,  0,  0,  0,  0,  0,  0,  0,  0,  0,  0],\n",
       "       [ 4,  1,  0,  0,  0,  0,  0,  0,  1,  0,  0]], dtype=int64)"
      ]
     },
     "execution_count": 92,
     "metadata": {},
     "output_type": "execute_result"
    }
   ],
   "source": [
    "d=accuracy_score(y_test, y_pred_test)\n",
    "print('Train Recall score: {}'\n",
    "      .format(rfp_train_recall))\n",
    "print('Test Recall score: {}'\n",
    "      .format(rfp_test_recall))\n",
    "\n",
    "confusion_matrix(y_test, y_pred_test)"
   ]
  },
  {
   "cell_type": "code",
   "execution_count": 93,
   "metadata": {},
   "outputs": [
    {
     "name": "stdout",
     "output_type": "stream",
     "text": [
      "0.6373626373626373\n"
     ]
    }
   ],
   "source": [
    "print(d)"
   ]
  },
  {
   "cell_type": "code",
   "execution_count": 94,
   "metadata": {},
   "outputs": [
    {
     "data": {
      "text/html": [
       "<div>\n",
       "<style scoped>\n",
       "    .dataframe tbody tr th:only-of-type {\n",
       "        vertical-align: middle;\n",
       "    }\n",
       "\n",
       "    .dataframe tbody tr th {\n",
       "        vertical-align: top;\n",
       "    }\n",
       "\n",
       "    .dataframe thead th {\n",
       "        text-align: right;\n",
       "    }\n",
       "</style>\n",
       "<table border=\"1\" class=\"dataframe\">\n",
       "  <thead>\n",
       "    <tr style=\"text-align: right;\">\n",
       "      <th></th>\n",
       "      <th>Model</th>\n",
       "      <th>Train Accuracy</th>\n",
       "      <th>Test Accuracy</th>\n",
       "    </tr>\n",
       "  </thead>\n",
       "  <tbody>\n",
       "    <tr>\n",
       "      <th>0</th>\n",
       "      <td>KNN Classifier</td>\n",
       "      <td>0.648199</td>\n",
       "      <td>0.648352</td>\n",
       "    </tr>\n",
       "    <tr>\n",
       "      <th>1</th>\n",
       "      <td>Logestic Regression</td>\n",
       "      <td>0.939058</td>\n",
       "      <td>0.780220</td>\n",
       "    </tr>\n",
       "    <tr>\n",
       "      <th>2</th>\n",
       "      <td>Linear SVC</td>\n",
       "      <td>0.880886</td>\n",
       "      <td>0.780220</td>\n",
       "    </tr>\n",
       "    <tr>\n",
       "      <th>3</th>\n",
       "      <td>Kernelized SVM</td>\n",
       "      <td>0.850416</td>\n",
       "      <td>0.791209</td>\n",
       "    </tr>\n",
       "    <tr>\n",
       "      <th>4</th>\n",
       "      <td>Random Forest Classifier</td>\n",
       "      <td>0.894737</td>\n",
       "      <td>0.758242</td>\n",
       "    </tr>\n",
       "    <tr>\n",
       "      <th>5</th>\n",
       "      <td>KNN Classifier with PCA</td>\n",
       "      <td>0.645429</td>\n",
       "      <td>0.648352</td>\n",
       "    </tr>\n",
       "    <tr>\n",
       "      <th>6</th>\n",
       "      <td>Logestic Regression with PCA</td>\n",
       "      <td>0.783934</td>\n",
       "      <td>0.791209</td>\n",
       "    </tr>\n",
       "    <tr>\n",
       "      <th>7</th>\n",
       "      <td>Linear SVC with PCA</td>\n",
       "      <td>0.808864</td>\n",
       "      <td>0.802198</td>\n",
       "    </tr>\n",
       "    <tr>\n",
       "      <th>8</th>\n",
       "      <td>Random Forest Classifier with PCA</td>\n",
       "      <td>1.000000</td>\n",
       "      <td>0.637363</td>\n",
       "    </tr>\n",
       "  </tbody>\n",
       "</table>\n",
       "</div>"
      ],
      "text/plain": [
       "                               Model  Train Accuracy  Test Accuracy\n",
       "0                     KNN Classifier        0.648199       0.648352\n",
       "1                Logestic Regression        0.939058       0.780220\n",
       "2                         Linear SVC        0.880886       0.780220\n",
       "3                     Kernelized SVM        0.850416       0.791209\n",
       "4           Random Forest Classifier        0.894737       0.758242\n",
       "5            KNN Classifier with PCA        0.645429       0.648352\n",
       "6       Logestic Regression with PCA        0.783934       0.791209\n",
       "7                Linear SVC with PCA        0.808864       0.802198\n",
       "8  Random Forest Classifier with PCA        1.000000       0.637363"
      ]
     },
     "execution_count": 94,
     "metadata": {},
     "output_type": "execute_result"
    }
   ],
   "source": [
    "result = result.append(pd.Series({'Model':'Random Forest Classifier with PCA','Train Accuracy':rfp_train_accuracy,'Test Accuracy':rfp_test_accuracy}),ignore_index=True )\n",
    "result"
   ]
  },
  {
   "cell_type": "markdown",
   "metadata": {},
   "source": [
    "Random Forest Classifier is overfitting the model and is not yielding good result"
   ]
  },
  {
   "cell_type": "markdown",
   "metadata": {},
   "source": [
    "# Kernal svm with PCA"
   ]
  },
  {
   "cell_type": "code",
   "execution_count": 95,
   "metadata": {},
   "outputs": [],
   "source": [
    "from sklearn import svm\n",
    "KSVM_clf = svm.SVC(kernel='sigmoid',C=10,gamma=0.001)\n",
    "\n",
    "KSVM_clf.fit(X_train_pca, y_train)\n",
    "y_pred_train = KSVM_clf.predict(X_train_pca)\n",
    "y_pred_test = KSVM_clf.predict(X_test_pca)"
   ]
  },
  {
   "cell_type": "code",
   "execution_count": 96,
   "metadata": {},
   "outputs": [],
   "source": [
    "ksvmp_train_recall = recall_score(y_train, y_pred_train, average='weighted')\n",
    "ksvmp_test_recall = recall_score(y_test, y_pred_test, average='weighted')\n",
    "ksvmp_train_accuracy = accuracy_score(y_train, y_pred_train,)\n",
    "ksvmp_test_accuracy = accuracy_score(y_test, y_pred_test)"
   ]
  },
  {
   "cell_type": "code",
   "execution_count": 97,
   "metadata": {},
   "outputs": [
    {
     "name": "stdout",
     "output_type": "stream",
     "text": [
      "Train Recall score: 0.8393351800554016\n",
      "Test Recall score: 0.8021978021978022\n"
     ]
    },
    {
     "data": {
      "text/plain": [
       "array([[52,  0,  0,  0,  0,  0,  0,  0,  0,  0,  0],\n",
       "       [ 2,  6,  0,  0,  0,  0,  0,  0,  0,  0,  0],\n",
       "       [ 0,  0,  4,  0,  0,  0,  0,  0,  0,  0,  0],\n",
       "       [ 0,  0,  0,  1,  0,  0,  0,  0,  0,  0,  0],\n",
       "       [ 1,  0,  0,  0,  1,  0,  0,  0,  0,  0,  0],\n",
       "       [ 3,  0,  0,  0,  0,  0,  0,  0,  0,  0,  0],\n",
       "       [ 1,  0,  0,  0,  0,  0,  0,  0,  0,  0,  0],\n",
       "       [ 1,  0,  0,  0,  0,  0,  0,  1,  0,  0,  0],\n",
       "       [ 2,  0,  0,  0,  0,  0,  0,  0,  8,  0,  0],\n",
       "       [ 2,  0,  0,  0,  0,  0,  0,  0,  0,  0,  0],\n",
       "       [ 5,  0,  1,  0,  0,  0,  0,  0,  0,  0,  0]], dtype=int64)"
      ]
     },
     "execution_count": 97,
     "metadata": {},
     "output_type": "execute_result"
    }
   ],
   "source": [
    "e=accuracy_score(y_test, y_pred_test)\n",
    "print('Train Recall score: {}'\n",
    "      .format(ksvmp_train_recall))\n",
    "print('Test Recall score: {}'\n",
    "      .format(ksvmp_test_recall))\n",
    "\n",
    "confusion_matrix(y_test, y_pred_test)"
   ]
  },
  {
   "cell_type": "code",
   "execution_count": 98,
   "metadata": {},
   "outputs": [
    {
     "name": "stdout",
     "output_type": "stream",
     "text": [
      "0.8021978021978022\n"
     ]
    }
   ],
   "source": [
    "print(e)"
   ]
  },
  {
   "cell_type": "code",
   "execution_count": 99,
   "metadata": {},
   "outputs": [
    {
     "data": {
      "text/html": [
       "<div>\n",
       "<style scoped>\n",
       "    .dataframe tbody tr th:only-of-type {\n",
       "        vertical-align: middle;\n",
       "    }\n",
       "\n",
       "    .dataframe tbody tr th {\n",
       "        vertical-align: top;\n",
       "    }\n",
       "\n",
       "    .dataframe thead th {\n",
       "        text-align: right;\n",
       "    }\n",
       "</style>\n",
       "<table border=\"1\" class=\"dataframe\">\n",
       "  <thead>\n",
       "    <tr style=\"text-align: right;\">\n",
       "      <th></th>\n",
       "      <th>Model</th>\n",
       "      <th>Train Accuracy</th>\n",
       "      <th>Test Accuracy</th>\n",
       "    </tr>\n",
       "  </thead>\n",
       "  <tbody>\n",
       "    <tr>\n",
       "      <th>0</th>\n",
       "      <td>KNN Classifier</td>\n",
       "      <td>0.648199</td>\n",
       "      <td>0.648352</td>\n",
       "    </tr>\n",
       "    <tr>\n",
       "      <th>1</th>\n",
       "      <td>Logestic Regression</td>\n",
       "      <td>0.939058</td>\n",
       "      <td>0.780220</td>\n",
       "    </tr>\n",
       "    <tr>\n",
       "      <th>2</th>\n",
       "      <td>Linear SVC</td>\n",
       "      <td>0.880886</td>\n",
       "      <td>0.780220</td>\n",
       "    </tr>\n",
       "    <tr>\n",
       "      <th>3</th>\n",
       "      <td>Kernelized SVM</td>\n",
       "      <td>0.850416</td>\n",
       "      <td>0.791209</td>\n",
       "    </tr>\n",
       "    <tr>\n",
       "      <th>4</th>\n",
       "      <td>Random Forest Classifier</td>\n",
       "      <td>0.894737</td>\n",
       "      <td>0.758242</td>\n",
       "    </tr>\n",
       "    <tr>\n",
       "      <th>5</th>\n",
       "      <td>KNN Classifier with PCA</td>\n",
       "      <td>0.645429</td>\n",
       "      <td>0.648352</td>\n",
       "    </tr>\n",
       "    <tr>\n",
       "      <th>6</th>\n",
       "      <td>Logestic Regression with PCA</td>\n",
       "      <td>0.783934</td>\n",
       "      <td>0.791209</td>\n",
       "    </tr>\n",
       "    <tr>\n",
       "      <th>7</th>\n",
       "      <td>Linear SVC with PCA</td>\n",
       "      <td>0.808864</td>\n",
       "      <td>0.802198</td>\n",
       "    </tr>\n",
       "    <tr>\n",
       "      <th>8</th>\n",
       "      <td>Random Forest Classifier with PCA</td>\n",
       "      <td>1.000000</td>\n",
       "      <td>0.637363</td>\n",
       "    </tr>\n",
       "    <tr>\n",
       "      <th>9</th>\n",
       "      <td>kernelized SVM with PCA</td>\n",
       "      <td>0.839335</td>\n",
       "      <td>0.802198</td>\n",
       "    </tr>\n",
       "  </tbody>\n",
       "</table>\n",
       "</div>"
      ],
      "text/plain": [
       "                               Model  Train Accuracy  Test Accuracy\n",
       "0                     KNN Classifier        0.648199       0.648352\n",
       "1                Logestic Regression        0.939058       0.780220\n",
       "2                         Linear SVC        0.880886       0.780220\n",
       "3                     Kernelized SVM        0.850416       0.791209\n",
       "4           Random Forest Classifier        0.894737       0.758242\n",
       "5            KNN Classifier with PCA        0.645429       0.648352\n",
       "6       Logestic Regression with PCA        0.783934       0.791209\n",
       "7                Linear SVC with PCA        0.808864       0.802198\n",
       "8  Random Forest Classifier with PCA        1.000000       0.637363\n",
       "9            kernelized SVM with PCA        0.839335       0.802198"
      ]
     },
     "execution_count": 99,
     "metadata": {},
     "output_type": "execute_result"
    }
   ],
   "source": [
    "result = result.append(pd.Series({'Model':'kernelized SVM with PCA','Train Accuracy':ksvmp_train_accuracy,'Test Accuracy':ksvmp_test_accuracy}),ignore_index=True )\n",
    "result"
   ]
  },
  {
   "cell_type": "code",
   "execution_count": 100,
   "metadata": {},
   "outputs": [
    {
     "data": {
      "text/html": [
       "<div>\n",
       "<style scoped>\n",
       "    .dataframe tbody tr th:only-of-type {\n",
       "        vertical-align: middle;\n",
       "    }\n",
       "\n",
       "    .dataframe tbody tr th {\n",
       "        vertical-align: top;\n",
       "    }\n",
       "\n",
       "    .dataframe thead th {\n",
       "        text-align: right;\n",
       "    }\n",
       "</style>\n",
       "<table border=\"1\" class=\"dataframe\">\n",
       "  <thead>\n",
       "    <tr style=\"text-align: right;\">\n",
       "      <th></th>\n",
       "      <th>Model</th>\n",
       "      <th>Train Accuracy</th>\n",
       "      <th>Test Accuracy</th>\n",
       "    </tr>\n",
       "  </thead>\n",
       "  <tbody>\n",
       "    <tr>\n",
       "      <th>0</th>\n",
       "      <td>KNN Classifier</td>\n",
       "      <td>0.648199</td>\n",
       "      <td>0.648352</td>\n",
       "    </tr>\n",
       "    <tr>\n",
       "      <th>1</th>\n",
       "      <td>Logestic Regression</td>\n",
       "      <td>0.939058</td>\n",
       "      <td>0.780220</td>\n",
       "    </tr>\n",
       "    <tr>\n",
       "      <th>2</th>\n",
       "      <td>Linear SVC</td>\n",
       "      <td>0.880886</td>\n",
       "      <td>0.780220</td>\n",
       "    </tr>\n",
       "    <tr>\n",
       "      <th>3</th>\n",
       "      <td>Kernelized SVM</td>\n",
       "      <td>0.850416</td>\n",
       "      <td>0.791209</td>\n",
       "    </tr>\n",
       "    <tr>\n",
       "      <th>4</th>\n",
       "      <td>Random Forest Classifier</td>\n",
       "      <td>0.894737</td>\n",
       "      <td>0.758242</td>\n",
       "    </tr>\n",
       "    <tr>\n",
       "      <th>5</th>\n",
       "      <td>KNN Classifier with PCA</td>\n",
       "      <td>0.645429</td>\n",
       "      <td>0.648352</td>\n",
       "    </tr>\n",
       "    <tr>\n",
       "      <th>6</th>\n",
       "      <td>Logestic Regression with PCA</td>\n",
       "      <td>0.783934</td>\n",
       "      <td>0.791209</td>\n",
       "    </tr>\n",
       "    <tr>\n",
       "      <th>7</th>\n",
       "      <td>Linear SVC with PCA</td>\n",
       "      <td>0.808864</td>\n",
       "      <td>0.802198</td>\n",
       "    </tr>\n",
       "    <tr>\n",
       "      <th>8</th>\n",
       "      <td>Random Forest Classifier with PCA</td>\n",
       "      <td>1.000000</td>\n",
       "      <td>0.637363</td>\n",
       "    </tr>\n",
       "    <tr>\n",
       "      <th>9</th>\n",
       "      <td>kernelized SVM with PCA</td>\n",
       "      <td>0.839335</td>\n",
       "      <td>0.802198</td>\n",
       "    </tr>\n",
       "  </tbody>\n",
       "</table>\n",
       "</div>"
      ],
      "text/plain": [
       "                               Model  Train Accuracy  Test Accuracy\n",
       "0                     KNN Classifier        0.648199       0.648352\n",
       "1                Logestic Regression        0.939058       0.780220\n",
       "2                         Linear SVC        0.880886       0.780220\n",
       "3                     Kernelized SVM        0.850416       0.791209\n",
       "4           Random Forest Classifier        0.894737       0.758242\n",
       "5            KNN Classifier with PCA        0.645429       0.648352\n",
       "6       Logestic Regression with PCA        0.783934       0.791209\n",
       "7                Linear SVC with PCA        0.808864       0.802198\n",
       "8  Random Forest Classifier with PCA        1.000000       0.637363\n",
       "9            kernelized SVM with PCA        0.839335       0.802198"
      ]
     },
     "execution_count": 100,
     "metadata": {},
     "output_type": "execute_result"
    }
   ],
   "source": [
    "result"
   ]
  },
  {
   "cell_type": "code",
   "execution_count": 101,
   "metadata": {},
   "outputs": [
    {
     "name": "stdout",
     "output_type": "stream",
     "text": [
      "0.6483516483516484 0.7912087912087912 0.8021978021978022 0.6373626373626373 0.8021978021978022\n"
     ]
    }
   ],
   "source": [
    "print(a,b,c,d,e)"
   ]
  },
  {
   "cell_type": "markdown",
   "metadata": {},
   "source": [
    "# Result"
   ]
  },
  {
   "cell_type": "code",
   "execution_count": 102,
   "metadata": {
    "execution": {
     "iopub.execute_input": "2022-09-19T13:10:53.759036Z",
     "iopub.status.busy": "2022-09-19T13:10:53.757777Z",
     "iopub.status.idle": "2022-09-19T13:10:54.003264Z",
     "shell.execute_reply": "2022-09-19T13:10:54.001938Z",
     "shell.execute_reply.started": "2022-09-19T13:10:53.758987Z"
    },
    "id": "jqPHSNsABChs"
   },
   "outputs": [
    {
     "data": {
      "image/png": "[encoded data removed]",
      "text/plain": [
       "<Figure size 2000x500 with 1 Axes>"
      ]
     },
     "metadata": {},
     "output_type": "display_data"
    }
   ],
   "source": [
    "ax=result.plot(kind=\"bar\",figsize=(20,5))\n",
    "ax.set_xticks(result.index)\n",
    "ax.set_xticklabels(result.Model,rotation=90)\n",
    "plt.title('Train & Test Scores of Classifiers')\n",
    "plt.xlabel('Models')\n",
    "plt.ylabel('Accuracy Scores')\n",
    "plt.legend(loc=4 , bbox_to_anchor=(1.2, 0))\n",
    "plt.show();"
   ]
  },
  {
   "cell_type": "markdown",
   "metadata": {},
   "source": [
    "## Conclusion\n",
    "\n",
    "The models started performing better after we applied PCA on the resampled data. The reason behind this is, PCA reduces the complexity of the data. It creates components based on giving importance to variables with large variance and also the components which it creates are non collinear in nature which means it takes care of collinearity in large data set. PCA also improves the overall execution time and quality of the models and it is very beneficial when we are working with huge amount of variables. \n",
    "\n",
    "The Best model in term of recall score is **Kernalized SVM with PCA** having accuracy of **80.21%.**"
   ]
  },
  {
   "cell_type": "code",
   "execution_count": 105,
   "metadata": {},
   "outputs": [
    {
     "name": "stdout",
     "output_type": "stream",
     "text": [
      "SMS message successfully sent!\n",
      "0.8021978021978022\n"
     ]
    }
   ],
   "source": [
    "sms = Sms(conf.SID, conf.AUTH_TOKEN, conf.TO_NUMBER, conf.FROM_NUMBER)\n",
    "p=a\n",
    "q=b\n",
    "r=c\n",
    "s=d\n",
    "t=e\n",
    "z=(max(p,q,r,s,t))\n",
    "if z>0.75 :\n",
    "    response = sms.send_sms(\"HEY Chikku your current Heart Rate is abnormal \" )\n",
    "elif z<0.65:\n",
    "    response = sms.send_sms(\"HEY Chikku The Current Heart Rate is low \" )\n",
    "else:\n",
    "    response = sms.send_sms(\"HEY Chikku The Current Heart Rate is normal \" )\n",
    "\n",
    "if Sms(conf.SID, conf.AUTH_TOKEN, conf.TO_NUMBER, conf.FROM_NUMBER):\n",
    "        print('SMS message successfully sent!')\n",
    "else:\n",
    "        print('Could not send SMS message.')\n",
    "print(z)\n",
    "    \n",
    "\n",
    "time.sleep(10)\n",
    "\n"
   ]
  },
  {
   "cell_type": "code",
   "execution_count": null,
   "metadata": {},
   "outputs": [],
   "source": []
  },
  {
   "cell_type": "code",
   "execution_count": null,
   "metadata": {},
   "outputs": [],
   "source": []
  },
  {
   "cell_type": "code",
   "execution_count": null,
   "metadata": {},
   "outputs": [],
   "source": []
  },
  {
   "cell_type": "code",
   "execution_count": null,
   "metadata": {},
   "outputs": [],
   "source": []
  },
  {
   "cell_type": "code",
   "execution_count": null,
   "metadata": {},
   "outputs": [],
   "source": []
  },
  {
   "cell_type": "code",
   "execution_count": null,
   "metadata": {},
   "outputs": [],
   "source": []
  }
 ],
 "metadata": {
  "colab": {
   "collapsed_sections": [],
   "name": "EDA Final.ipynb",
   "provenance": [],
   "toc_visible": true
  },
  "kernelspec": {
   "display_name": "Python 3 (ipykernel)",
   "language": "python",
   "name": "python3"
  },
  "language_info": {
   "codemirror_mode": {
    "name": "ipython",
    "version": 3
   },
   "file_extension": ".py",
   "mimetype": "text/x-python",
   "name": "python",
   "nbconvert_exporter": "python",
   "pygments_lexer": "ipython3",
   "version": "3.10.6"
  }
 },
 "nbformat": 4,
 "nbformat_minor": 4
}
